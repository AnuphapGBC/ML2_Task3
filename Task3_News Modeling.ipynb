{
 "cells": [
  {
   "cell_type": "markdown",
   "metadata": {},
   "source": [
    "# News Modeling\n",
    "\n",
    "Topic modeling involves **extracting features from document terms** and using\n",
    "mathematical structures and frameworks like matrix factorization and SVD to generate **clusters or groups of terms** that are distinguishable from each other and these clusters of words form topics or concepts\n",
    "\n",
    "Topic modeling is a method for **unsupervised classification** of documents, similar to clustering on numeric data\n",
    "\n",
    "These concepts can be used to interpret the main **themes** of a corpus and also make **semantic connections among words that co-occur together** frequently in various documents\n",
    "\n",
    "Topic modeling can help in the following areas:\n",
    "- discovering the **hidden themes** in the collection\n",
    "- **classifying** the documents into the discovered themes\n",
    "- using the classification to **organize/summarize/search** the documents\n",
    "\n",
    "Frameworks and algorithms to build topic models:\n",
    "- Latent semantic indexing\n",
    "- Latent Dirichlet allocation\n",
    "- Non-negative matrix factorization"
   ]
  },
  {
   "cell_type": "markdown",
   "metadata": {},
   "source": [
    "## Latent Dirichlet Allocation (LDA)\n",
    "The latent Dirichlet allocation (LDA) technique is a **generative probabilistic model** where each **document is assumed to have a combination of topics** similar to a probabilistic latent semantic indexing model\n",
    "\n",
    "In simple words, the idea behind LDA is that of two folds:\n",
    "- each **document** can be described by a **distribution of topics**\n",
    "- each **topic** can be described by a **distribution of words**"
   ]
  },
  {
   "cell_type": "markdown",
   "metadata": {},
   "source": [
    "### LDA Algorithm\n",
    "\n",
    "- 1. For each document, **randomly initialize each word to one of the K topics** (k is chosen beforehand)\n",
    "- 2. For each document D, go through each word w and compute:\n",
    "    - **P(T |D)** , which is a proportion of words in D assigned to topic T\n",
    "    - **P(W |T )** , which is a proportion of assignments to topic T over all documents having the word W\n",
    "- **Reassign word W with topic T** with probability P(T |D)´ P(W |T ) considering all other words and their topic assignments\n",
    "\n",
    "![LDA](https://raw.githubusercontent.com/subashgandyer/datasets/main/images/LDA.png)"
   ]
  },
  {
   "cell_type": "markdown",
   "metadata": {},
   "source": [
    "### Steps\n",
    "- Install the necessary library\n",
    "- Import the necessary libraries\n",
    "- Download the dataset\n",
    "- Load the dataset\n",
    "- Pre-process the dataset\n",
    "    - Stop words removal\n",
    "    - Email removal\n",
    "    - Non-alphabetic words removal\n",
    "    - Tokenize\n",
    "    - Lowercase\n",
    "    - BiGrams & TriGrams\n",
    "    - Lemmatization\n",
    "- Create a dictionary for the document\n",
    "- Filter low frequency words\n",
    "- Create an Index to word dictionary\n",
    "- Train the Topic Model\n",
    "- Predict on the dataset\n",
    "- Evaluate the Topic Model\n",
    "    - Model Perplexity\n",
    "    - Topic Coherence\n",
    "- Visualize the topics"
   ]
  },
  {
   "cell_type": "markdown",
   "metadata": {},
   "source": [
    "### Install the necessary library"
   ]
  },
  {
   "cell_type": "code",
   "execution_count": 1,
   "metadata": {},
   "outputs": [],
   "source": [
    "#! pip install pyLDAvis gensim spacy"
   ]
  },
  {
   "cell_type": "markdown",
   "metadata": {},
   "source": [
    "### Import the libraries"
   ]
  },
  {
   "cell_type": "code",
   "execution_count": null,
   "metadata": {},
   "outputs": [],
   "source": []
  },
  {
   "cell_type": "markdown",
   "metadata": {},
   "source": [
    "### Download the dataset\n",
    "Dataset: https://raw.githubusercontent.com/subashgandyer/datasets/main/newsgroups.json\n",
    "\n",
    "#### 20-Newsgroups dataset\n",
    "- 11K newsgroups posts\n",
    "- 20 news topics"
   ]
  },
  {
   "cell_type": "code",
   "execution_count": 3,
   "metadata": {},
   "outputs": [
    {
     "name": "stdout",
     "output_type": "stream",
     "text": [
      "--2021-03-08 08:56:47--  https://raw.githubusercontent.com/subashgandyer/datasets/main/newsgroups.json\r\n",
      "Resolving raw.githubusercontent.com (raw.githubusercontent.com)... 185.199.110.133, 185.199.108.133, 185.199.109.133, ...\r\n",
      "Connecting to raw.githubusercontent.com (raw.githubusercontent.com)|185.199.110.133|:443... "
     ]
    },
    {
     "name": "stderr",
     "output_type": "stream",
     "text": [
      "/Users/subashgandyer/.local/lib/python3.8/site-packages/ipykernel/ipkernel.py:283: DeprecationWarning: `should_run_async` will not call `transform_cell` automatically in the future. Please pass the result to `transformed_cell` argument and any exception that happen during thetransform in `preprocessing_exc_tuple` in IPython 7.17 and above.\n",
      "  and should_run_async(code)\n"
     ]
    },
    {
     "name": "stdout",
     "output_type": "stream",
     "text": [
      "connected.\n",
      "HTTP request sent, awaiting response... 200 OK\n",
      "Length: 23237087 (22M) [text/plain]\n",
      "Saving to: ‘newsgroups.json’\n",
      "\n",
      "newsgroups.json     100%[===================>]  22.16M  13.8MB/s    in 1.6s    \n",
      "\n",
      "2021-03-08 08:56:49 (13.8 MB/s) - ‘newsgroups.json’ saved [23237087/23237087]\n",
      "\n"
     ]
    }
   ],
   "source": []
  },
  {
   "cell_type": "markdown",
   "metadata": {},
   "source": [
    "### Load the dataset"
   ]
  },
  {
   "cell_type": "code",
   "execution_count": null,
   "metadata": {},
   "outputs": [],
   "source": []
  },
  {
   "cell_type": "code",
   "execution_count": null,
   "metadata": {},
   "outputs": [],
   "source": []
  },
  {
   "cell_type": "markdown",
   "metadata": {},
   "source": [
    "### Preprocess the data"
   ]
  },
  {
   "cell_type": "markdown",
   "metadata": {},
   "source": [
    "### Email Removal"
   ]
  },
  {
   "cell_type": "code",
   "execution_count": null,
   "metadata": {},
   "outputs": [],
   "source": []
  },
  {
   "cell_type": "code",
   "execution_count": null,
   "metadata": {},
   "outputs": [],
   "source": []
  },
  {
   "cell_type": "markdown",
   "metadata": {},
   "source": [
    "### Newline Removal"
   ]
  },
  {
   "cell_type": "code",
   "execution_count": null,
   "metadata": {},
   "outputs": [],
   "source": []
  },
  {
   "cell_type": "markdown",
   "metadata": {},
   "source": [
    "### Single Quotes Removal"
   ]
  },
  {
   "cell_type": "code",
   "execution_count": null,
   "metadata": {},
   "outputs": [],
   "source": []
  },
  {
   "cell_type": "markdown",
   "metadata": {},
   "source": [
    "### Tokenize\n",
    "- Create **sent_to_words()** \n",
    "    - Use **gensim.utils.simple_preprocess**\n",
    "    - Use **generator** instead of an usual function"
   ]
  },
  {
   "cell_type": "code",
   "execution_count": null,
   "metadata": {},
   "outputs": [],
   "source": []
  },
  {
   "cell_type": "code",
   "execution_count": null,
   "metadata": {},
   "outputs": [],
   "source": []
  },
  {
   "cell_type": "markdown",
   "metadata": {},
   "source": [
    "### Stop words Removal\n",
    "- Extend the stop words corpus with the following words\n",
    "    - from\n",
    "    - subject\n",
    "    - re\n",
    "    - edu\n",
    "    - use"
   ]
  },
  {
   "cell_type": "code",
   "execution_count": null,
   "metadata": {},
   "outputs": [],
   "source": []
  },
  {
   "cell_type": "markdown",
   "metadata": {},
   "source": [
    "#### remove_stopwords( )"
   ]
  },
  {
   "cell_type": "code",
   "execution_count": 1,
   "metadata": {},
   "outputs": [],
   "source": [
    "def remove_stopwords(texts):\n",
    "    return None"
   ]
  },
  {
   "cell_type": "code",
   "execution_count": null,
   "metadata": {},
   "outputs": [],
   "source": []
  },
  {
   "cell_type": "markdown",
   "metadata": {},
   "source": [
    "### Bigrams\n",
    "- Use **gensim.models.Phrases**\n",
    "- 100 as threshold"
   ]
  },
  {
   "cell_type": "code",
   "execution_count": null,
   "metadata": {},
   "outputs": [],
   "source": []
  },
  {
   "cell_type": "code",
   "execution_count": null,
   "metadata": {},
   "outputs": [],
   "source": []
  },
  {
   "cell_type": "code",
   "execution_count": 17,
   "metadata": {},
   "outputs": [
    {
     "name": "stdout",
     "output_type": "stream",
     "text": [
      "['from', 'wheres', 'my', 'thing', 'subject', 'what', 'car', 'is', 'this', 'nntp_posting_host', 'rac_wam_umd_edu', 'organization', 'university', 'of', 'maryland_college_park', 'lines', 'was', 'wondering', 'if', 'anyone', 'out', 'there', 'could', 'enlighten', 'me', 'on', 'this', 'car', 'saw', 'the', 'other', 'day', 'it', 'was', 'door', 'sports', 'car', 'looked', 'to', 'be', 'from', 'the', 'late', 'early', 'it', 'was', 'called', 'bricklin', 'the', 'doors', 'were', 'really', 'small', 'in', 'addition', 'the', 'front_bumper', 'was', 'separate', 'from', 'the', 'rest', 'of', 'the', 'body', 'this', 'is', 'all', 'know', 'if', 'anyone', 'can', 'tellme', 'model', 'name', 'engine', 'specs', 'years', 'of', 'production', 'where', 'this', 'car', 'is', 'made', 'history', 'or', 'whatever', 'info', 'you', 'have', 'on', 'this', 'funky', 'looking', 'car', 'please', 'mail', 'thanks', 'il', 'brought', 'to', 'you', 'by', 'your', 'neighborhood', 'lerxst']\n"
     ]
    },
    {
     "name": "stderr",
     "output_type": "stream",
     "text": [
      "/Users/subashgandyer/.local/lib/python3.8/site-packages/ipykernel/ipkernel.py:283: DeprecationWarning: `should_run_async` will not call `transform_cell` automatically in the future. Please pass the result to `transformed_cell` argument and any exception that happen during thetransform in `preprocessing_exc_tuple` in IPython 7.17 and above.\n",
      "  and should_run_async(code)\n"
     ]
    }
   ],
   "source": []
  },
  {
   "cell_type": "markdown",
   "metadata": {},
   "source": [
    "#### make_bigrams( )"
   ]
  },
  {
   "cell_type": "code",
   "execution_count": 2,
   "metadata": {},
   "outputs": [],
   "source": [
    "def make_bigrams(texts):\n",
    "    return None"
   ]
  },
  {
   "cell_type": "code",
   "execution_count": null,
   "metadata": {},
   "outputs": [],
   "source": []
  },
  {
   "cell_type": "markdown",
   "metadata": {},
   "source": [
    "### Lemmatization\n",
    "- Use spacy\n",
    "    - Download spacy en model (if you have not done that before)\n",
    "    - Load the spacy model"
   ]
  },
  {
   "cell_type": "code",
   "execution_count": 20,
   "metadata": {},
   "outputs": [
    {
     "name": "stderr",
     "output_type": "stream",
     "text": [
      "/Users/subashgandyer/.local/lib/python3.8/site-packages/ipykernel/ipkernel.py:283: DeprecationWarning: `should_run_async` will not call `transform_cell` automatically in the future. Please pass the result to `transformed_cell` argument and any exception that happen during thetransform in `preprocessing_exc_tuple` in IPython 7.17 and above.\n",
      "  and should_run_async(code)\n"
     ]
    }
   ],
   "source": [
    "#! python -m spacy download en"
   ]
  },
  {
   "cell_type": "code",
   "execution_count": 21,
   "metadata": {},
   "outputs": [
    {
     "name": "stderr",
     "output_type": "stream",
     "text": [
      "/Users/subashgandyer/.local/lib/python3.8/site-packages/ipykernel/ipkernel.py:283: DeprecationWarning: `should_run_async` will not call `transform_cell` automatically in the future. Please pass the result to `transformed_cell` argument and any exception that happen during thetransform in `preprocessing_exc_tuple` in IPython 7.17 and above.\n",
      "  and should_run_async(code)\n"
     ]
    }
   ],
   "source": [
    "nlp = spacy.load('en', disable=['parser', 'ner'])"
   ]
  },
  {
   "cell_type": "markdown",
   "metadata": {},
   "source": [
    "#### lemmatizaton( )"
   ]
  },
  {
   "cell_type": "code",
   "execution_count": 22,
   "metadata": {},
   "outputs": [
    {
     "name": "stderr",
     "output_type": "stream",
     "text": [
      "/Users/subashgandyer/.local/lib/python3.8/site-packages/ipykernel/ipkernel.py:283: DeprecationWarning: `should_run_async` will not call `transform_cell` automatically in the future. Please pass the result to `transformed_cell` argument and any exception that happen during thetransform in `preprocessing_exc_tuple` in IPython 7.17 and above.\n",
      "  and should_run_async(code)\n"
     ]
    }
   ],
   "source": [
    "def lemmatization(texts, allowed_postags=['NOUN', 'ADJ', 'VERB', 'ADV']):\n",
    "    \"\"\"https://spacy.io/api/annotation\"\"\"\n",
    "    texts_out = []\n",
    "    for sent in texts:\n",
    "        doc = nlp(\" \".join(sent)) \n",
    "        texts_out.append([token.lemma_ for token in doc if token.pos_ in allowed_postags])\n",
    "    return texts_out"
   ]
  },
  {
   "cell_type": "code",
   "execution_count": 23,
   "metadata": {},
   "outputs": [
    {
     "name": "stderr",
     "output_type": "stream",
     "text": [
      "/Users/subashgandyer/.local/lib/python3.8/site-packages/ipykernel/ipkernel.py:283: DeprecationWarning: `should_run_async` will not call `transform_cell` automatically in the future. Please pass the result to `transformed_cell` argument and any exception that happen during thetransform in `preprocessing_exc_tuple` in IPython 7.17 and above.\n",
      "  and should_run_async(code)\n"
     ]
    }
   ],
   "source": [
    "data_lemmatized = lemmatization(data_words_bigrams, allowed_postags=['NOUN', 'ADJ', 'VERB', 'ADV'])"
   ]
  },
  {
   "cell_type": "code",
   "execution_count": 24,
   "metadata": {},
   "outputs": [
    {
     "name": "stdout",
     "output_type": "stream",
     "text": [
      "[['where', 'thing', 'car', 'nntp_poste', 'host', 'park', 'line', 'wonder', 'could', 'enlighten', 'car', 'see', 'day', 'door', 'sport', 'car', 'look', 'late', 'early', 'call', 'door', 'really', 'small', 'addition', 'separate', 'rest', 'body', 'know', 'model', 'name', 'engine', 'spec', 'year', 'production', 'car', 'make', 'history', 'info', 'funky', 'look', 'car', 'mail', 'thank', 'bring', 'neighborhood', 'lerxst']]\n"
     ]
    },
    {
     "name": "stderr",
     "output_type": "stream",
     "text": [
      "/Users/subashgandyer/.local/lib/python3.8/site-packages/ipykernel/ipkernel.py:283: DeprecationWarning: `should_run_async` will not call `transform_cell` automatically in the future. Please pass the result to `transformed_cell` argument and any exception that happen during thetransform in `preprocessing_exc_tuple` in IPython 7.17 and above.\n",
      "  and should_run_async(code)\n"
     ]
    }
   ],
   "source": [
    "print(data_lemmatized[:1])"
   ]
  },
  {
   "cell_type": "markdown",
   "metadata": {},
   "source": [
    "### Create a Dictionary"
   ]
  },
  {
   "cell_type": "code",
   "execution_count": null,
   "metadata": {},
   "outputs": [],
   "source": []
  },
  {
   "cell_type": "markdown",
   "metadata": {},
   "source": [
    "### Create Corpus"
   ]
  },
  {
   "cell_type": "code",
   "execution_count": null,
   "metadata": {},
   "outputs": [],
   "source": []
  },
  {
   "cell_type": "markdown",
   "metadata": {},
   "source": [
    "### Filter low-frequency words"
   ]
  },
  {
   "cell_type": "code",
   "execution_count": null,
   "metadata": {},
   "outputs": [],
   "source": []
  },
  {
   "cell_type": "markdown",
   "metadata": {},
   "source": [
    "### Create Index 2 word dictionary"
   ]
  },
  {
   "cell_type": "code",
   "execution_count": null,
   "metadata": {},
   "outputs": [],
   "source": []
  },
  {
   "cell_type": "code",
   "execution_count": null,
   "metadata": {},
   "outputs": [],
   "source": []
  },
  {
   "cell_type": "markdown",
   "metadata": {},
   "source": [
    "### Build a News Topic Model\n",
    "\n",
    "#### LdaModel\n",
    "- **num_topics** : this is the number of topics you need to define beforehand\n",
    "- **chunksize** : the number of documents to be used in each training chunk\n",
    "- **alpha** : this is the hyperparameters that affect the sparsity of the topics\n",
    "- **passess** : total number of training assess"
   ]
  },
  {
   "cell_type": "code",
   "execution_count": null,
   "metadata": {},
   "outputs": [],
   "source": []
  },
  {
   "cell_type": "markdown",
   "metadata": {},
   "source": [
    "### Print the Keyword in the 10 topics"
   ]
  },
  {
   "cell_type": "code",
   "execution_count": 31,
   "metadata": {},
   "outputs": [
    {
     "name": "stdout",
     "output_type": "stream",
     "text": [
      "[(0,\n",
      "  '0.165*\"gun\" + 0.063*\"crime\" + 0.054*\"police\" + 0.053*\"bus\" + 0.051*\"weapon\" '\n",
      "  '+ 0.041*\"criminal\" + 0.040*\"carry\" + 0.039*\"master\" + 0.038*\"shoot\" + '\n",
      "  '0.034*\"cop\"'),\n",
      " (1,\n",
      "  '0.149*\"team\" + 0.130*\"game\" + 0.079*\"win\" + 0.070*\"test\" + 0.043*\"run\" + '\n",
      "  '0.043*\"score\" + 0.039*\"division\" + 0.036*\"wing\" + 0.028*\"cpu\" + '\n",
      "  '0.020*\"resource\"'),\n",
      " (2,\n",
      "  '0.118*\"list\" + 0.077*\"entry\" + 0.056*\"section\" + 0.041*\"author\" + '\n",
      "  '0.039*\"special\" + 0.032*\"site\" + 0.032*\"sun\" + 0.027*\"send\" + '\n",
      "  '0.023*\"laboratory\" + 0.022*\"student\"'),\n",
      " (3,\n",
      "  '0.070*\"suggest\" + 0.064*\"church\" + 0.060*\"member\" + 0.050*\"process\" + '\n",
      "  '0.043*\"community\" + 0.040*\"perform\" + 0.038*\"scientific\" + 0.036*\"ignore\" + '\n",
      "  '0.031*\"weight\" + 0.030*\"significant\"'),\n",
      " (4,\n",
      "  '0.176*\"question\" + 0.097*\"answer\" + 0.056*\"access\" + 0.054*\"page\" + '\n",
      "  '0.048*\"format\" + 0.036*\"recommend\" + 0.036*\"trial\" + 0.033*\"ask\" + '\n",
      "  '0.031*\"faq\" + 0.029*\"step\"'),\n",
      " (5,\n",
      "  '0.042*\"people\" + 0.028*\"say\" + 0.021*\"believe\" + 0.021*\"reason\" + '\n",
      "  '0.019*\"evidence\" + 0.015*\"state\" + 0.013*\"fact\" + 0.013*\"claim\" + '\n",
      "  '0.012*\"would\" + 0.012*\"law\"'),\n",
      " (6,\n",
      "  '0.042*\"year\" + 0.029*\"also\" + 0.028*\"post\" + 0.027*\"new\" + 0.024*\"hear\" + '\n",
      "  '0.022*\"old\" + 0.022*\"last\" + 0.022*\"day\" + 0.021*\"talk\" + 0.020*\"call\"'),\n",
      " (7,\n",
      "  '0.071*\"car\" + 0.052*\"buy\" + 0.046*\"price\" + 0.043*\"sell\" + 0.042*\"high\" + '\n",
      "  '0.039*\"cost\" + 0.037*\"low\" + 0.034*\"power\" + 0.032*\"rate\" + 0.029*\"pay\"'),\n",
      " (8,\n",
      "  '0.072*\"may\" + 0.042*\"case\" + 0.025*\"must\" + 0.023*\"group\" + 0.021*\"many\" + '\n",
      "  '0.019*\"however\" + 0.019*\"cause\" + 0.019*\"example\" + 0.017*\"rule\" + '\n",
      "  '0.017*\"other\"'),\n",
      " (9,\n",
      "  '0.115*\"book\" + 0.072*\"science\" + 0.062*\"truth\" + 0.051*\"drug\" + '\n",
      "  '0.044*\"reality\" + 0.040*\"shall\" + 0.036*\"revelation\" + 0.034*\"moral\" + '\n",
      "  '0.029*\"atheism\" + 0.029*\"authority\"'),\n",
      " (10,\n",
      "  '0.145*\"space\" + 0.040*\"project\" + 0.039*\"orbit\" + 0.039*\"launch\" + '\n",
      "  '0.036*\"mission\" + 0.033*\"earth\" + 0.031*\"operation\" + 0.029*\"satellite\" + '\n",
      "  '0.029*\"plane\" + 0.027*\"surface\"'),\n",
      " (11,\n",
      "  '0.036*\"use\" + 0.028*\"system\" + 0.020*\"drive\" + 0.018*\"thank\" + 0.017*\"mail\" '\n",
      "  '+ 0.015*\"problem\" + 0.015*\"also\" + 0.014*\"window\" + 0.014*\"run\" + '\n",
      "  '0.014*\"card\"'),\n",
      " (12,\n",
      "  '0.096*\"key\" + 0.051*\"government\" + 0.048*\"public\" + 0.028*\"encryption\" + '\n",
      "  '0.024*\"security\" + 0.023*\"chip\" + 0.023*\"private\" + 0.021*\"technology\" + '\n",
      "  '0.017*\"secure\" + 0.016*\"clearly\"'),\n",
      " (13,\n",
      "  '0.033*\"come\" + 0.031*\"time\" + 0.024*\"take\" + 0.022*\"first\" + 0.019*\"say\" + '\n",
      "  '0.017*\"start\" + 0.016*\"back\" + 0.016*\"go\" + 0.015*\"see\" + 0.015*\"happen\"'),\n",
      " (14,\n",
      "  '0.043*\"would\" + 0.030*\"article\" + 0.030*\"know\" + 0.030*\"be\" + 0.024*\"get\" + '\n",
      "  '0.024*\"think\" + 0.022*\"good\" + 0.021*\"make\" + 0.021*\"go\" + '\n",
      "  '0.019*\"nntp_poste\"'),\n",
      " (15,\n",
      "  '0.038*\"receive\" + 0.038*\"information\" + 0.036*\"issue\" + 0.032*\"die\" + '\n",
      "  '0.030*\"patient\" + 0.027*\"service\" + 0.026*\"internet\" + 0.026*\"local\" + '\n",
      "  '0.025*\"pass\" + 0.023*\"study\"'),\n",
      " (16,\n",
      "  '0.063*\"play\" + 0.047*\"player\" + 0.045*\"year\" + 0.031*\"season\" + '\n",
      "  '0.031*\"point\" + 0.031*\"tape\" + 0.029*\"graphic\" + 0.027*\"fan\" + 0.025*\"goal\" '\n",
      "  '+ 0.025*\"lose\"'),\n",
      " (17,\n",
      "  '0.050*\"kill\" + 0.033*\"attack\" + 0.030*\"war\" + 0.028*\"soldier\" + '\n",
      "  '0.027*\"death\" + 0.027*\"government\" + 0.025*\"murder\" + 0.025*\"village\" + '\n",
      "  '0.023*\"military\" + 0.022*\"land\"'),\n",
      " (18,\n",
      "  '0.096*\"program\" + 0.092*\"file\" + 0.055*\"source\" + 0.042*\"info\" + '\n",
      "  '0.039*\"image\" + 0.035*\"copy\" + 0.033*\"user\" + 0.032*\"disk\" + 0.029*\"code\" + '\n",
      "  '0.028*\"display\"'),\n",
      " (19,\n",
      "  '0.769*\"ax\" + 0.025*\"bike\" + 0.025*\"wire\" + 0.016*\"kid\" + 0.015*\"internal\" + '\n",
      "  '0.013*\"apple\" + 0.013*\"doctor\" + 0.012*\"cable\" + 0.012*\"worry\" + '\n",
      "  '0.009*\"aware\"')]\n"
     ]
    },
    {
     "name": "stderr",
     "output_type": "stream",
     "text": [
      "/Users/subashgandyer/.local/lib/python3.8/site-packages/ipykernel/ipkernel.py:283: DeprecationWarning: `should_run_async` will not call `transform_cell` automatically in the future. Please pass the result to `transformed_cell` argument and any exception that happen during thetransform in `preprocessing_exc_tuple` in IPython 7.17 and above.\n",
      "  and should_run_async(code)\n"
     ]
    }
   ],
   "source": []
  },
  {
   "cell_type": "markdown",
   "metadata": {},
   "source": [
    "## Evaluation of Topic Models\n",
    "- Model Perplexity\n",
    "- Topic Coherence\n",
    "\n",
    "### Model Perplexity\n",
    "\n",
    "Model perplexity is a measurement of **how well** a **probability distribution** or probability model **predicts a sample**"
   ]
  },
  {
   "cell_type": "code",
   "execution_count": null,
   "metadata": {},
   "outputs": [],
   "source": []
  },
  {
   "cell_type": "markdown",
   "metadata": {},
   "source": [
    "### Topic Coherence\n",
    "Topic Coherence measures score a single topic by measuring the **degree of semantic similarity** between **high scoring words** in the topic."
   ]
  },
  {
   "cell_type": "code",
   "execution_count": null,
   "metadata": {},
   "outputs": [],
   "source": []
  },
  {
   "cell_type": "markdown",
   "metadata": {},
   "source": [
    "### Visualize the Topic Model\n",
    "- Use **pyLDAvis**\n",
    "    - designed to help users **interpret the topics** in a topic model that has been fit to a corpus of text data\n",
    "    - extracts information from a fitted LDA topic model to inform an interactive web-based visualization"
   ]
  },
  {
   "cell_type": "code",
   "execution_count": 34,
   "metadata": {},
   "outputs": [
    {
     "name": "stderr",
     "output_type": "stream",
     "text": [
      "/Users/subashgandyer/.local/lib/python3.8/site-packages/ipykernel/ipkernel.py:283: DeprecationWarning: `should_run_async` will not call `transform_cell` automatically in the future. Please pass the result to `transformed_cell` argument and any exception that happen during thetransform in `preprocessing_exc_tuple` in IPython 7.17 and above.\n",
      "  and should_run_async(code)\n"
     ]
    },
    {
     "data": {
      "text/html": [
       "\n",
       "<link rel=\"stylesheet\" type=\"text/css\" href=\"https://cdn.jsdelivr.net/gh/bmabey/pyLDAvis@3.2.2/pyLDAvis/js/ldavis.v1.0.0.css\">\n",
       "\n",
       "\n",
       "<div id=\"ldavis_el483091405521639190083403866753\"></div>\n",
       "<script type=\"text/javascript\">\n",
       "\n",
       "var ldavis_el483091405521639190083403866753_data = {\"mdsDat\": {\"x\": [-0.28251375587704197, -0.2794349247211039, -0.1162200708307705, -0.22638237829921884, -0.1436281268462819, -0.09696692396298423, 0.14117042193501322, 0.06291428581502671, 0.08034356468149448, 0.05346158698372631, 0.0064950682625458545, 0.0006855933534032335, -0.041837712584357596, 0.11281646183808071, 0.0940967840645985, 0.10739877240907336, 0.13708946113818346, 0.14791347420883094, 0.11725273478638423, 0.12534568364539803], \"y\": [-0.056497669344378054, -0.019724415017730975, 0.2332016752802688, -0.11197495980515337, -0.027520346134171134, 0.01549423168590524, -0.11702459023474697, 0.1500954537119558, 0.21374964405049793, 0.09566658168070424, 0.22169647562779, -0.13785837775754325, -0.10281366391278716, 0.0055050086183378024, -0.07192738608444195, -0.11496713783224524, -0.022394004626049034, -0.08803060782941595, 0.041413703839039286, -0.10608961591583632], \"topics\": [1, 2, 3, 4, 5, 6, 7, 8, 9, 10, 11, 12, 13, 14, 15, 16, 17, 18, 19, 20], \"cluster\": [1, 1, 1, 1, 1, 1, 1, 1, 1, 1, 1, 1, 1, 1, 1, 1, 1, 1, 1, 1], \"Freq\": [22.24707228218035, 12.727841127557813, 12.067801656898322, 11.18600953201815, 7.532973344549462, 6.243389709247432, 5.269797548956015, 2.888201803935193, 2.6546895705009077, 2.5780276889472202, 2.567291727034248, 2.2014725857710173, 2.1653800619779275, 1.2703747443652975, 1.1900319659512841, 1.154864257135772, 1.1421454271288811, 1.1190329071643357, 0.9442386869797312, 0.8493633717006362]}, \"tinfo\": {\"Term\": [\"ax\", \"may\", \"would\", \"question\", \"people\", \"year\", \"be\", \"good\", \"article\", \"program\", \"key\", \"file\", \"know\", \"system\", \"use\", \"team\", \"run\", \"come\", \"time\", \"say\", \"get\", \"case\", \"go\", \"game\", \"think\", \"car\", \"point\", \"gun\", \"list\", \"drive\", \"be\", \"organization\", \"s\", \"really\", \"have\", \"probably\", \"lot\", \"will\", \"maybe\", \"big\", \"sound\", \"distribution_usa\", \"like\", \"hard\", \"pretty\", \"d\", \"guess\", \"wonder\", \"want\", \"guy\", \"job\", \"nice\", \"serious\", \"nntp_poste\", \"ride\", \"advice\", \"anyway\", \"wait\", \"there\", \"suspect\", \"article\", \"much\", \"little\", \"get\", \"know\", \"good\", \"bad\", \"sure\", \"would\", \"host\", \"look\", \"could\", \"think\", \"reply\", \"try\", \"well\", \"thing\", \"go\", \"make\", \"seem\", \"work\", \"see\", \"way\", \"need\", \"believe\", \"evidence\", \"claim\", \"law\", \"sense\", \"life\", \"faith\", \"god\", \"accept\", \"religion\", \"argument\", \"prove\", \"christian\", \"belief\", \"certainly\", \"israeli\", \"conclusion\", \"religious\", \"statement\", \"indeed\", \"family\", \"therefore\", \"nature\", \"school\", \"argue\", \"respect\", \"direct\", \"term\", \"convince\", \"bomb\", \"action\", \"reason\", \"fact\", \"matter\", \"true\", \"person\", \"word\", \"state\", \"explain\", \"people\", \"exist\", \"human\", \"man\", \"say\", \"mean\", \"view\", \"agree\", \"love\", \"world\", \"right\", \"point\", \"child\", \"would\", \"make\", \"think\", \"many\", \"even\", \"can\", \"follow\", \"window\", \"card\", \"driver\", \"software\", \"machine\", \"sale\", \"computer\", \"memory\", \"color\", \"version\", \"advance\", \"appreciate\", \"screen\", \"com\", \"device\", \"instal\", \"package\", \"slow\", \"product\", \"monitor\", \"server\", \"distribution\", \"video\", \"hardware\", \"mode\", \"pc\", \"ca\", \"object\", \"scsi\", \"period\", \"mail\", \"available\", \"speed\", \"use\", \"system\", \"drive\", \"fast\", \"thank\", \"type\", \"bit\", \"email\", \"run\", \"set\", \"support\", \"problem\", \"number\", \"need\", \"also\", \"work\", \"help\", \"include\", \"build\", \"happen\", \"leave\", \"hand\", \"head\", \"black\", \"later\", \"center\", \"break\", \"character\", \"deny\", \"forget\", \"press\", \"normal\", \"white\", \"steal\", \"flame\", \"mount\", \"light\", \"pull\", \"medium\", \"purchase\", \"owner\", \"pro\", \"firearm\", \"count\", \"folk\", \"fear\", \"night\", \"immediately\", \"push\", \"start\", \"move\", \"place\", \"turn\", \"block\", \"report\", \"sometimes\", \"come\", \"fire\", \"first\", \"back\", \"away\", \"side\", \"second\", \"take\", \"time\", \"never\", \"close\", \"lead\", \"name\", \"right\", \"see\", \"say\", \"go\", \"end\", \"return\", \"tell\", \"find\", \"point\", \"hear\", \"talk\", \"week\", \"ill\", \"news\", \"young\", \"interesting\", \"hour\", \"office\", \"eat\", \"finally\", \"eventually\", \"basis\", \"vote\", \"hide\", \"scripture\", \"upgrade\", \"hole\", \"ago\", \"impression\", \"thread\", \"primarily\", \"btw\", \"wear\", \"frame\", \"clock\", \"unlikely\", \"opportunity\", \"devil\", \"success\", \"ever\", \"age\", \"old\", \"post\", \"month\", \"early\", \"body\", \"net\", \"next\", \"order\", \"last\", \"year\", \"comment\", \"plan\", \"soon\", \"day\", \"show\", \"new\", \"cover\", \"yet\", \"call\", \"also\", \"change\", \"expect\", \"ask\", \"part\", \"long\", \"read\", \"time\", \"may\", \"rule\", \"often\", \"whole\", \"discussion\", \"level\", \"value\", \"atheist\", \"particular\", \"define\", \"obviously\", \"logic\", \"society\", \"legal\", \"possibly\", \"choice\", \"sorry\", \"wish\", \"market\", \"generally\", \"tend\", \"insist\", \"teach\", \"catch\", \"disagree\", \"language\", \"rider\", \"impossible\", \"topic\", \"observation\", \"aspect\", \"example\", \"case\", \"result\", \"common\", \"reduce\", \"assume\", \"cause\", \"research\", \"thus\", \"field\", \"usually\", \"other\", \"may\", \"apply\", \"must\", \"certain\", \"specific\", \"group\", \"produce\", \"large\", \"however\", \"note\", \"many\", \"effect\", \"area\", \"non\", \"different\", \"well\", \"ax\", \"bike\", \"wire\", \"kid\", \"internal\", \"apple\", \"doctor\", \"cable\", \"worry\", \"aware\", \"draft\", \"cap\", \"club\", \"ok\", \"modem\", \"father\", \"pop\", \"shop\", \"meter\", \"diet\", \"sgi\", \"mere\", \"dirt\", \"wash\", \"consent\", \"reflection\", \"incline\", \"silent\", \"chemist\", \"vitamin\", \"receive\", \"die\", \"patient\", \"service\", \"internet\", \"pass\", \"network\", \"publish\", \"license\", \"motif\", \"appropriate\", \"meet\", \"univ\", \"operate\", \"treatment\", \"activity\", \"disease\", \"official\", \"industry\", \"rsa\", \"procedure\", \"medical\", \"independent\", \"past\", \"letter\", \"health\", \"department\", \"magazine\", \"workstation\", \"percent\", \"local\", \"study\", \"issue\", \"information\", \"relate\", \"general\", \"increase\", \"include\", \"address\", \"group\", \"involve\", \"file\", \"info\", \"image\", \"copy\", \"disk\", \"notice\", \"review\", \"box\", \"external\", \"manual\", \"generate\", \"electronic\", \"display\", \"sample\", \"prefer\", \"status\", \"reliable\", \"routine\", \"widget\", \"confirm\", \"reading\", \"band\", \"compression\", \"backup\", \"button\", \"giant\", \"portable\", \"exposure\", \"speaker\", \"working\", \"program\", \"user\", \"source\", \"input\", \"digital\", \"code\", \"data\", \"text\", \"datum\", \"application\", \"include\", \"information\", \"return\", \"car\", \"price\", \"sell\", \"low\", \"rate\", \"engine\", \"dealer\", \"vehicle\", \"air\", \"extra\", \"cool\", \"tax\", \"insurance\", \"cycle\", \"water\", \"oil\", \"fuel\", \"energy\", \"production\", \"recall\", \"gas\", \"nuclear\", \"auto\", \"cylinder\", \"panel\", \"canadian\", \"probe\", \"heat\", \"middle\", \"channel\", \"cost\", \"buy\", \"cheap\", \"model\", \"safety\", \"hot\", \"ground\", \"pay\", \"high\", \"power\", \"risk\", \"less\", \"drive\", \"design\", \"company\", \"money\", \"key\", \"encryption\", \"security\", \"private\", \"secure\", \"clearly\", \"tap\", \"clipper\", \"technical\", \"obtain\", \"agency\", \"secret\", \"listen\", \"associate\", \"communication\", \"federal\", \"description\", \"dual\", \"proposal\", \"privacy\", \"german\", \"restrict\", \"scheme\", \"prohibit\", \"noise\", \"exchange\", \"historical\", \"regulation\", \"cryptography\", \"automatically\", \"court\", \"public\", \"government\", \"citizen\", \"protect\", \"technology\", \"chip\", \"message\", \"provide\", \"system\", \"use\", \"play\", \"player\", \"season\", \"tape\", \"graphic\", \"fan\", \"goal\", \"trade\", \"total\", \"material\", \"pen\", \"star\", \"baseball\", \"convert\", \"mine\", \"hell\", \"sport\", \"impact\", \"specifically\", \"nntp_posting\", \"excellent\", \"series\", \"tie\", \"capture\", \"specification\", \"penguin\", \"latter\", \"mercy\", \"typically\", \"percentage\", \"record\", \"defense\", \"hit\", \"lose\", \"year\", \"double\", \"point\", \"number\", \"last\", \"good\", \"well\", \"war\", \"soldier\", \"murder\", \"village\", \"military\", \"land\", \"turkish\", \"greek\", \"withdraw\", \"occupy\", \"armenian\", \"turk\", \"civilian\", \"terrorism\", \"rocket\", \"girl\", \"inhabitant\", \"russian\", \"alive\", \"proceed\", \"troop\", \"escape\", \"innocent\", \"sad\", \"genocide\", \"muslim\", \"investment\", \"french\", \"moslem\", \"slaughter\", \"kill\", \"attack\", \"death\", \"government\", \"force\", \"child\", \"destroy\", \"woman\", \"country\", \"people\", \"policy\", \"man\", \"jewish\", \"list\", \"entry\", \"section\", \"author\", \"special\", \"site\", \"sun\", \"laboratory\", \"student\", \"session\", \"command\", \"contribute\", \"archive\", \"join\", \"cold\", \"solid\", \"conference\", \"configuration\", \"coverage\", \"implementation\", \"regularly\", \"informed\", \"terminal\", \"threat\", \"collection\", \"danger\", \"hang\", \"park\", \"boot\", \"crew\", \"send\", \"name\", \"address\", \"email\", \"team\", \"game\", \"win\", \"test\", \"score\", \"division\", \"wing\", \"cpu\", \"resource\", \"flight\", \"stat\", \"dog\", \"ice\", \"controller\", \"finish\", \"pitch\", \"ram\", \"staff\", \"origin\", \"deficit\", \"era\", \"quit\", \"core\", \"testing\", \"hitter\", \"rain\", \"tricky\", \"worthwhile\", \"rbi\", \"observer\", \"offense\", \"final\", \"pick\", \"run\", \"predict\", \"second\", \"watch\", \"first\", \"answer\", \"access\", \"page\", \"format\", \"recommend\", \"trial\", \"faq\", \"step\", \"library\", \"rational\", \"should\", \"blind\", \"gateway\", \"usenet\", \"background\", \"trap\", \"bank\", \"constitution\", \"camp\", \"accurate\", \"enable\", \"fish\", \"split\", \"powerful\", \"fancy\", \"camera\", \"custom\", \"unusual\", \"gravity\", \"tiff\", \"question\", \"search\", \"ask\", \"easy\", \"book\", \"science\", \"truth\", \"drug\", \"reality\", \"shall\", \"revelation\", \"moral\", \"atheism\", \"animal\", \"boy\", \"objective\", \"cd\", \"concept\", \"understanding\", \"wave\", \"morality\", \"cry\", \"interpret\", \"immediate\", \"universe\", \"absolute\", \"bible\", \"rich\", \"follower\", \"investigation\", \"evolution\", \"cult\", \"mankind\", \"ancient\", \"authority\", \"experiment\", \"system\", \"suggest\", \"church\", \"community\", \"scientific\", \"ignore\", \"weight\", \"significant\", \"particularly\", \"separate\", \"bill\", \"benefit\", \"requirement\", \"additional\", \"gain\", \"related\", \"unknown\", \"detailed\", \"abuse\", \"consideration\", \"meeting\", \"role\", \"approve\", \"rely\", \"warrant\", \"guilty\", \"sufficient\", \"electrical\", \"location\", \"physics\", \"recommendation\", \"perform\", \"process\", \"member\", \"measure\", \"space\", \"project\", \"orbit\", \"launch\", \"mission\", \"operation\", \"satellite\", \"plane\", \"surface\", \"moon\", \"degree\", \"gmt\", \"schedule\", \"imaging\", \"shuttle\", \"lunar\", \"component\", \"receiver\", \"sky\", \"ozone\", \"distant\", \"spacecraft\", \"solar\", \"planetary\", \"telescope\", \"frequently_asked\", \"tour\", \"atmosphere\", \"transport\", \"archive_name\", \"facility\", \"expire\", \"earth\", \"fly\", \"development\", \"build\", \"base\", \"gun\", \"crime\", \"police\", \"bus\", \"weapon\", \"criminal\", \"master\", \"cop\", \"link\", \"northern\", \"violate\", \"ammunition\", \"radiation\", \"effectively\", \"revolver\", \"trigger\", \"inform\", \"strength\", \"garage\", \"fighting\", \"battle\", \"bullet\", \"hunt\", \"bloody\", \"joint\", \"assault\", \"fatal\", \"horror\", \"silence\", \"hammer\", \"shoot\", \"survey\", \"carry\", \"kill\", \"protect\", \"safe\", \"arm\", \"city\", \"training\"], \"Freq\": [42743.0, 6854.0, 11790.0, 3067.0, 6725.0, 4435.0, 6945.0, 5607.0, 7207.0, 2751.0, 2611.0, 2590.0, 7545.0, 4318.0, 5586.0, 1872.0, 2616.0, 4434.0, 5921.0, 7882.0, 6045.0, 2819.0, 6851.0, 1631.0, 6704.0, 1944.0, 3337.0, 1480.0, 1578.0, 3130.0, 6943.885274734407, 4391.747691215215, 3141.756639148981, 2737.4916997106197, 2580.7134831500007, 1747.031258704025, 1649.7781370426417, 1635.2034253837967, 1305.1242664352444, 1249.119077576961, 943.3968687759128, 919.9324307278029, 913.8795163577627, 1079.6888192411368, 814.7982196678162, 2347.975604646701, 800.0170941029975, 724.5755698454361, 4136.723883908391, 627.4059641571234, 587.5049380773381, 577.8825761440602, 530.2755765647327, 4453.603477135329, 486.9587526484902, 473.48706359277645, 463.3708158331385, 438.95779691757883, 379.4602857766172, 357.72373804382136, 7100.387981440109, 3282.8128781917785, 1779.0117041827675, 5735.583823331474, 7096.660623688416, 5199.100371758636, 1850.5854939386093, 2189.1956265549566, 10164.64966304728, 4237.777228140352, 3291.587462873239, 4024.4487021123955, 5573.543390390462, 2113.6473722703317, 3125.5539941602497, 3832.6514569586343, 3235.9060691021773, 4957.64100048089, 5024.850111115657, 2320.3448720518722, 2377.602199671876, 2608.3405014961904, 2261.8681784522555, 2252.1512670425973, 2861.780674478156, 2534.2955104825833, 1749.201754701057, 1599.943844864248, 1508.5088752922532, 1266.020771023242, 1144.8540928052153, 905.7656909277871, 882.2068958381174, 871.3014235550941, 857.520241542651, 851.5047007824871, 737.593170965529, 734.3550913106294, 665.6086165157301, 611.8048699673272, 590.0185500564445, 558.8239868957902, 553.3991253639308, 503.78485139740525, 438.99178999008564, 432.8353137035408, 427.2302359453757, 425.22392029122085, 393.20061873597155, 390.86065150417375, 387.725882902537, 373.17433667804426, 341.2075968307216, 319.6992730268644, 633.5268157796858, 2832.993827600562, 1807.7454348728452, 833.3293303049469, 1377.3247123560905, 1339.231745798617, 1129.501057804532, 1953.6745163255728, 858.6203511370447, 5593.489170448252, 1402.4748601609322, 628.7667574381211, 1351.1083294824862, 3777.1788555154285, 1560.3465243732976, 793.7218849557821, 898.1644223736818, 763.9872388508854, 882.9038860776742, 1203.6318946984325, 1210.783544548864, 881.5852795430462, 1624.3713777883727, 1404.7035789506199, 1129.8514278980538, 1034.229079464862, 1019.7340324491711, 979.9307773420677, 930.298409878918, 1812.1436319767886, 1724.593182056718, 1362.8148483111952, 1327.2312191037915, 1191.4540795333178, 1022.0496560068755, 1532.7880305982626, 927.6474940950081, 917.0396513675398, 879.5458389293851, 843.0642132374521, 751.3200118849799, 746.8149186596709, 744.0024723648154, 739.1231052978616, 704.1882332181221, 645.0781509093374, 636.5471250482603, 632.0512168206485, 614.8425606836387, 603.8327113472852, 603.1682508364612, 596.3507899973673, 577.1181751742618, 534.5724954865965, 509.75960938517306, 468.9808565932086, 463.8363690120814, 462.93792809217973, 433.67843646046055, 2143.5497264340997, 1414.0318176634798, 868.9861137382397, 4605.638491454801, 3605.1611358457085, 2584.9508497002416, 933.1126269828391, 2317.477790955394, 1093.8646049044535, 1563.3685026729754, 976.5269111624027, 1745.6209009781371, 1344.2772711525377, 1202.1654460735401, 1954.0574166538265, 1509.7069017400675, 1676.6697751044687, 1851.9216644551404, 1593.9668706786852, 1134.6672090614056, 985.716768019586, 913.3878740573173, 1765.398530707263, 1591.5473299834825, 1261.5467089577305, 715.4590978192317, 683.5005159514328, 659.3652848050673, 655.5019186858639, 642.4174471336984, 582.7631414030645, 564.875374521035, 546.9031831885156, 508.90547924291855, 504.09740517057406, 487.4793007303643, 474.9844820578412, 461.0691684509509, 424.61854118738154, 821.0972650296823, 410.0481004360576, 407.7416705882528, 392.92119724185363, 383.4706847057871, 380.90595558769644, 353.79197496177744, 351.75760386691803, 351.7111896439746, 333.34678439556444, 324.229822591834, 311.79641350658994, 311.20796904458626, 1975.0188935384615, 932.5711556580974, 1691.1495060163809, 1169.0075143111105, 542.9222160618307, 1273.1558673571885, 815.2697258948168, 3908.8193205555726, 676.6974542136377, 2602.1779807159323, 1928.8841446380227, 761.2537870105074, 744.2259740626821, 1020.1480381992069, 2858.079530694158, 3647.3104930211834, 1630.235369969261, 947.2131127624064, 915.1685684580317, 1136.1983162817708, 1459.1701211835768, 1818.5936244464046, 2206.288717505013, 1875.2780790455522, 1035.6422593072916, 790.359953970078, 1006.0789809118211, 911.0053499801913, 891.3614776286652, 1872.0519984694429, 1672.604285548916, 1145.11888328984, 941.7773694693939, 740.7811765717387, 674.6441918642065, 559.7845373187739, 516.3560399582168, 507.1869685270704, 472.6460848520678, 388.9619907806636, 370.99393396708246, 349.77725774899744, 331.014024544696, 309.49327112886635, 304.3593952924117, 300.7506956639014, 296.4763035240827, 280.7534169109646, 271.21840232340577, 267.547189409306, 264.95396077052675, 260.0458170792259, 245.18777772866704, 215.5879589427018, 204.28209833285393, 202.65651247181333, 201.6190508617965, 198.7234280752693, 194.4837511535131, 1272.3192152622853, 849.8755156110981, 1776.4415901811876, 2233.195170271575, 659.3796312067668, 758.3730809585982, 644.0680931098606, 939.5373223991404, 1188.1502178412995, 1584.656156568442, 1753.9860781952461, 3350.7393323175606, 721.4207010543437, 520.3037354481384, 615.5411724591161, 1711.1908885048533, 1334.096397666433, 2115.8478938508883, 627.2179883852564, 677.5983699945729, 1589.7027912308947, 2313.4940404629237, 994.2835726898512, 643.4921571000212, 1084.8597749925518, 991.3631295396374, 890.4742325806009, 918.519615981757, 1198.407057431813, 709.182079340314, 1104.633270026241, 1046.8622595170596, 1017.1699047948536, 898.090413882492, 822.4117476386206, 785.079431634073, 759.1727515816774, 688.5915418687123, 525.1272979189251, 487.830176959169, 481.40652944604125, 446.7668183142696, 427.2559485792956, 419.4456530906287, 396.2340611850753, 383.9680975519698, 376.5177235143935, 359.06187037124715, 350.59271015469363, 344.1601719072545, 344.13460338168295, 331.35576700962554, 308.5235948552389, 306.10516183400506, 260.14123043664085, 255.09264228674283, 245.220033672572, 240.99057340095044, 234.4907568209373, 230.17025849573704, 1224.417581565568, 2775.996772215897, 1023.176055687798, 490.77212094282396, 466.2488391492882, 898.7583839486217, 1237.2009859355992, 793.8307347053443, 563.9435694531653, 585.8261805253858, 689.3576165893131, 1090.9460765268952, 4719.589776419889, 632.3092694911289, 1625.3394203760195, 614.9605650252877, 502.7479094026268, 1486.4732630188023, 615.0002360949395, 968.260013254542, 1245.2008073536224, 807.4657487915932, 1397.303489953709, 605.1477695926397, 689.3405709055987, 614.784099278058, 634.340587677361, 654.530893459956, 42741.904867322235, 1388.3426754201837, 1381.9059388589783, 885.621605188972, 850.1628318234442, 723.1974113189342, 718.3255058022131, 688.746959267062, 654.4745406453071, 480.97221658622146, 453.25820795422015, 417.50479961262914, 391.3932729903477, 328.94851316184776, 328.08831152173747, 324.81663671990776, 266.38298559812137, 242.60926045506753, 205.8991165037365, 190.55949221992051, 148.31780042863662, 145.02656265105566, 126.70776369292894, 85.36420268422545, 66.18603661769212, 65.65997112095239, 58.57730055186468, 54.76502387548009, 42.97560096690472, 39.5214871838709, 1171.580555521928, 978.4417707888502, 926.9406703660478, 816.2403727983585, 804.9493317222757, 766.7605340370854, 620.7264496076631, 586.506257088221, 455.54915085263286, 451.628169856541, 439.7090797247526, 427.24198544897394, 420.7843863062513, 415.73551520759065, 401.2895076236459, 375.5362344102869, 353.4058869370649, 332.9501005740268, 308.7257645953215, 297.6554852300398, 292.083457380253, 291.86612778650283, 288.975320833143, 287.8492744298164, 279.62960937441443, 273.7261694946907, 251.42367724145436, 250.04076098678325, 242.90731843107633, 223.4275013530495, 778.8211635414675, 710.2512657219694, 1106.4926397266515, 1164.153340765429, 337.8441860301536, 484.773031884119, 484.2354091850925, 559.5413330974898, 455.3077113457154, 518.7980192007175, 349.7041643277766, 2589.1555954101773, 1183.619743019474, 1093.99542788033, 966.2744565132739, 882.7845131147091, 546.0788043879131, 491.3544894583893, 448.0099904694922, 407.0369121797746, 383.55612166704987, 378.4985995022016, 327.0833340279484, 774.590904194954, 311.35187676362483, 301.70564681197385, 298.06658665726485, 234.48587225005798, 201.5371143988447, 199.96227664409872, 199.72549696545286, 192.70692962793083, 182.77442360698117, 170.67780294441118, 157.0404979491417, 135.5142478161132, 117.95833299598718, 114.50166775779509, 111.6524250413967, 110.2340542808583, 105.02170109678981, 2677.150661961132, 912.4831817884823, 1550.1581269767753, 630.8078130812723, 342.79993064298463, 812.8060284761325, 284.71648326296025, 357.17742632933914, 474.65617749437604, 424.272762506959, 577.2750615114525, 542.3081623087243, 251.23781290807858, 1943.4213819349118, 1250.1582214338055, 1165.092551766379, 1014.7882771305702, 864.934062897784, 511.61193573785107, 339.76689318298304, 323.14319214120854, 312.2124665675733, 306.95311984170274, 298.9942208874411, 282.84096158444714, 279.9918533929229, 269.0511776764891, 211.44690205522687, 206.22300113067445, 203.35679034001424, 203.30296335886965, 189.9706581537815, 184.29298767628285, 173.58059557955272, 171.5801991229476, 171.52062485830356, 159.17173809235823, 156.35364497698743, 155.63372809300083, 152.94955681053887, 142.9495873426595, 141.08459384708974, 126.07663902154455, 1053.5353991097859, 1410.3362784848011, 695.5490095912553, 738.86727274532, 380.5875945393111, 310.73544002664556, 410.8468142980211, 800.8428891549295, 1128.9208204372228, 927.4490124928789, 362.4399265882918, 485.0559920271444, 543.9792185746701, 272.2454013807046, 256.93909418177856, 260.97401633797233, 2610.273755838171, 756.0460929339772, 660.672247960829, 616.4350932709315, 451.6893110975898, 442.5423901410023, 409.5385568092473, 386.92499798149674, 377.61920995465994, 376.5701225199666, 360.7491205553568, 350.1487461788898, 343.4910536164574, 342.1372419457646, 326.81086848205155, 261.60091571087895, 249.67648099571312, 245.30255614572482, 241.4010975755971, 201.7959227212459, 193.23923793582736, 188.7311295359475, 180.0621965047347, 163.89295267783584, 145.70920329953515, 142.19661733026282, 141.60641897858366, 138.34398372149644, 133.95038013030364, 132.04221037778714, 318.44955918105796, 1297.1912552372319, 1390.5567844488126, 400.2699327344098, 428.0153694141855, 567.2108085230575, 630.2626551399708, 430.1535320908115, 343.765799603524, 431.40782807728374, 384.50533223562246, 1469.0367200777087, 1082.2159344170586, 730.307323680817, 708.8935469743471, 671.0425628264608, 622.8535981425678, 580.3529009905935, 496.9969008449023, 493.5948110314008, 444.6246170755318, 365.114356066997, 338.46484711093876, 338.4362217842078, 323.42902669976934, 296.70884086071754, 269.5504107823633, 268.4157106140698, 253.10481465003184, 245.69091988772703, 197.5455850447276, 194.45244985281624, 189.0622402924329, 178.7023259241237, 173.3842093788343, 167.2212781492458, 166.2436064915617, 164.98330297308425, 157.71816694232956, 145.80753387328195, 144.7926428047464, 461.90800128250413, 266.43498502258217, 511.18010162996757, 570.4676070792792, 1048.355632148326, 217.87226956588103, 722.9062065379217, 388.58902657607115, 345.831263612291, 407.15540484563275, 236.30269915380802, 675.6913765335818, 634.2346530816285, 573.9621359128862, 563.4275303031266, 520.4314550019354, 493.6284952081721, 394.6115472069817, 361.5837246510612, 353.7356586824761, 350.58239681552266, 317.2020285331265, 316.85728738389884, 277.01666433510127, 260.383642874128, 223.28636062680292, 218.97559701705362, 195.984375738488, 185.55865142439458, 171.89660072364603, 170.56135877202627, 169.19009242297318, 167.12897162259867, 144.8771011265387, 139.84863539814864, 135.3237988269102, 133.09012669195835, 122.82446000908212, 122.4055434771818, 116.21556738798165, 103.08015552444542, 1143.1180132572294, 749.4270659114572, 620.8855935741643, 606.6987010028995, 373.9253769830757, 442.3783245285999, 201.82747345771546, 253.23279998361215, 274.4176975797769, 454.7754382705944, 195.79289777243744, 227.74672968870303, 189.49760242214606, 1576.695148758245, 1032.3192394094979, 755.6184070892166, 552.3672909264551, 520.139715289972, 431.0046177960341, 428.8039224689387, 301.7130936163838, 301.28526103805393, 298.0036808615423, 293.68093993830314, 260.37090745587767, 233.48023507283537, 226.9434243758669, 226.52629634530936, 212.14220375218287, 193.13966022264873, 192.53187147058074, 182.04407207644604, 177.60512817191199, 166.38945695775104, 159.61961649004758, 151.04517391514887, 150.50484377590686, 147.3339645928491, 144.42446102264594, 141.55639078944947, 125.9373701635217, 124.12313645856399, 122.89223822638095, 364.1081559181913, 299.5794202364127, 166.28926089346294, 150.26067279169794, 1871.121587805718, 1630.5462584261973, 989.6267585321435, 872.757345137374, 540.8269124735538, 490.24558202819475, 456.2693235191155, 346.5993915461108, 253.18527336626659, 232.4776220225543, 218.32773525806917, 217.11421397468538, 210.5664068287984, 206.0223110871818, 190.81824534701227, 189.9619995767845, 187.79289193233794, 109.72315515543568, 97.62524763523848, 93.58241867141118, 89.77828761666791, 86.02033240597042, 79.79531205752718, 73.76717891655477, 68.55574814709361, 59.87414601501981, 44.0776801920982, 38.80476636225642, 38.27526348241334, 37.78340484293255, 148.176530473652, 193.75048741025336, 219.35823611174987, 542.7514085219796, 106.04149936206363, 118.46440254695965, 95.65157799434938, 112.04945467596822, 1179.7492063020811, 684.5367623543648, 654.933475414461, 578.9976366709659, 434.07627520941986, 432.53860591419914, 376.34993599546664, 357.97831747063145, 357.4821838949976, 329.6007789774416, 323.47090256872656, 269.27683842782125, 242.0152829107669, 229.2444027222798, 219.20284697085455, 207.7688870768402, 183.27618200066732, 176.1937912795332, 171.22058070942154, 156.55612706506557, 139.26003548892697, 128.72665602742066, 126.19482550843925, 115.12620611228331, 114.59840636658797, 110.76199088653111, 103.93354198046745, 102.11323623899588, 73.52139535206976, 45.685513389415064, 2137.780418830716, 168.4447664331469, 400.509998843225, 153.80286019068285, 1384.630898870268, 871.5672650709442, 742.0008984278653, 609.5298184576334, 535.5129759143643, 482.25716134051567, 432.9139606217961, 405.03077657999955, 354.34397769484616, 312.6018248881284, 298.4247016251713, 286.4856523533333, 252.8499110446598, 252.20292361528772, 237.9962327576041, 211.70388850703716, 177.64392624519354, 166.0379610876968, 162.81006811742532, 157.29546493041482, 157.13113819948035, 151.0721816846712, 148.3269269791539, 132.11983578917514, 122.53763564523882, 121.85437294980245, 99.26129822519235, 86.1506330123166, 86.00226223870324, 84.07524248482264, 343.30025672766277, 113.91644963096412, 215.3167883518885, 821.660706908315, 750.6840778674508, 503.42200918650514, 453.81454175511277, 419.6510764822523, 364.7685436040912, 350.09117189393095, 338.51696216067523, 326.8743515571156, 315.90539721125083, 289.35792485651353, 256.0055769733792, 247.93924169289792, 243.2789268700148, 221.1302546997041, 199.90009280225104, 191.266614958642, 191.20133520774135, 189.61710335398172, 185.62952164080102, 178.22976515007193, 177.56459306202265, 171.73612237344364, 171.4698051674545, 165.8860346360394, 160.8509217281873, 150.05184859266302, 149.52717083719182, 111.84867671461475, 100.3227893828254, 471.73724023302776, 593.1618409727728, 704.9721191268409, 151.2554247676439, 1448.511575470644, 394.88034454012114, 389.933039876741, 385.47921935774673, 363.0932740797616, 311.8198115259211, 284.96682210465775, 283.9980849837277, 273.34420222841163, 251.59386259956392, 245.9104490331969, 241.82561028857714, 212.4313481511367, 200.53396250523193, 190.1139876734349, 144.57366173884392, 144.1291124228917, 129.89569843407526, 128.615890852693, 123.65517710045273, 111.63010836705458, 111.28359562608819, 107.91325916132658, 107.81219951374845, 100.74840092631922, 79.02041905213389, 77.80414236133319, 58.75084250960892, 54.55397852434248, 45.9282019126671, 194.47848845252528, 92.67562867815066, 326.24647032992203, 117.57458187089811, 135.57198088748692, 117.15099005205788, 103.67432717356077, 1479.567655206639, 564.2835871500661, 480.8135431125129, 477.7071788133576, 455.0746289399181, 366.2482919520749, 348.32180057713225, 309.00210192303393, 265.64226119022976, 230.39491938101173, 148.84474861707176, 145.30285936413694, 144.7936792096014, 120.42350889169, 91.25083597209476, 89.64905640466836, 86.90357756480054, 83.61762970765248, 81.55839545566653, 77.90470544896809, 77.51092956424675, 76.89813164031243, 64.46023313769723, 54.81424210999038, 54.31281535399422, 53.735326882472144, 47.50621146175103, 44.909707147126944, 43.738109820446745, 41.56617393568451, 343.7126699872181, 66.98946347790486, 360.2102004186599, 235.94530170969253, 164.0790631603947, 125.20627556981907, 103.50158103056926, 111.93461771173766, 73.37928153397876], \"Total\": [42743.0, 6854.0, 11790.0, 3067.0, 6725.0, 4435.0, 6945.0, 5607.0, 7207.0, 2751.0, 2611.0, 2590.0, 7545.0, 4318.0, 5586.0, 1872.0, 2616.0, 4434.0, 5921.0, 7882.0, 6045.0, 2819.0, 6851.0, 1631.0, 6704.0, 1944.0, 3337.0, 1480.0, 1578.0, 3130.0, 6945.209021037133, 4393.071437517941, 3143.08038545171, 2738.8154460133487, 2582.0372294527297, 1748.3550050067538, 1651.1018833453704, 1636.5271716865254, 1306.4480127379732, 1250.4428243389107, 944.7206150786409, 921.2561770305309, 915.2032626604907, 1081.2751709126107, 816.1219659705442, 2351.814595389183, 801.3408404057255, 725.8993161481642, 4144.916292451168, 628.7297104598515, 588.8286843800662, 579.2063224467882, 531.599322882974, 4465.443299787829, 488.2824989512185, 474.81080989550475, 464.6945621358668, 440.2815432203071, 380.7840320793455, 359.04748437018714, 7207.287293350086, 3332.691043296367, 1818.6878708900438, 6045.727316592642, 7545.371351865156, 5607.512948874903, 1940.4218496266299, 2315.8455875826153, 11790.534367169765, 4756.95776973863, 3648.9388829048817, 4640.418511213591, 6704.660820393314, 2324.3026410604652, 3717.1713872003083, 4754.651755056598, 4037.8852332657084, 6851.820976366272, 7164.728223476913, 2750.056457970421, 4137.552013556737, 5310.632660052101, 3756.120987619819, 4050.3423382700607, 2863.1106647599217, 2535.625500764349, 1750.5317449828228, 1601.2738351460137, 1509.8388655740189, 1267.3507613452384, 1146.184083086981, 907.095681209552, 883.5368861250741, 872.631413836859, 858.8502318244159, 852.8346910694439, 738.9231612472939, 735.6850815923943, 666.938606797495, 613.134860254284, 591.3485403382094, 560.1539771775551, 554.7291156456957, 505.11484168444883, 440.3217802718508, 434.16530398530597, 428.56022622714084, 426.553910572986, 394.53060902700156, 392.19064179203076, 389.05587320802823, 374.5043269598094, 342.5375871400339, 321.0292633667902, 639.5947417633996, 2986.92078799449, 1893.9609072082603, 852.4558773410033, 1439.1959365565724, 1414.483984159571, 1185.6362435359115, 2122.559865973745, 897.8853164256951, 6725.059581310367, 1532.8444861429457, 648.806732504281, 1881.557073510893, 7882.465244293311, 2328.5509025216566, 911.3684521329482, 1163.5681513241027, 889.917771404288, 1330.4701129483858, 3266.5528734711347, 3337.0227898756957, 1325.2264842022182, 11790.534367169765, 7164.728223476913, 6704.660820393314, 3623.197240719929, 3630.0489492035767, 3217.712068737227, 2066.1914614461493, 1813.4638005107256, 1725.9133505958469, 1364.1350168451322, 1328.5513876377286, 1192.7742480672548, 1023.3698245408119, 1534.8696526037868, 928.9676626289446, 918.3598199014763, 880.8660074633216, 844.3843817713886, 752.6401804189163, 748.1350871936073, 745.3226409132086, 740.443273831798, 705.5084017520586, 646.3983194432739, 637.8672935862697, 633.371385354585, 616.1627292175751, 605.1528798812217, 604.4884193703977, 597.6709585313038, 578.4383437081982, 535.892664020533, 511.07977791910963, 470.3010251271452, 465.1565375505459, 464.2580966261163, 434.99860503802313, 2174.080271809742, 1428.5900022039928, 881.9367228583557, 5586.620160968155, 4318.62299023644, 3130.1874222364586, 996.5494534625639, 2913.621360908541, 1220.5247435775705, 1884.9482978818332, 1132.953146368755, 2616.4848275131735, 1841.6521955922562, 1632.210897110106, 3597.2114856838507, 2744.52798408708, 4050.3423382700607, 5367.7864195170405, 4137.552013556737, 2543.514128539569, 2262.9446503976087, 1378.4954267535297, 1766.71857970358, 1592.8673789746076, 1262.8667579540474, 716.7791468103563, 684.8205649535553, 660.6853337961919, 656.8219676769885, 643.7374974783538, 584.083190400281, 566.1954235813387, 548.2232321796403, 510.2255282340432, 505.4174541686237, 488.79934972556197, 476.3045310530389, 462.38921744207556, 425.9385902122217, 823.6631535566961, 411.3681494271823, 409.0617195793775, 394.2412462432326, 384.79073370309305, 382.2260045940887, 355.1120239740649, 353.07765286323456, 353.03123863509927, 334.6668855514483, 325.5498715882371, 313.1164625022426, 312.52801803571094, 2006.2530272244046, 946.061203719905, 1740.9408921181277, 1197.8848821314114, 550.0211497716748, 1332.8840217580982, 843.520427012666, 4434.288625661363, 710.6548386901561, 3300.4897822533394, 2394.280362350486, 832.276576228739, 825.1982514973587, 1217.0126975919502, 4347.547866570333, 5921.085090684453, 2314.206192712733, 1147.3830569695021, 1117.8842751700647, 1696.2382772123165, 3266.5528734711347, 5310.632660052101, 7882.465244293311, 6851.820976366272, 1998.0224706078964, 1056.2759601882726, 3020.1510006634844, 3597.25581521005, 3337.0227898756957, 1873.3739511839437, 1673.926237800766, 1146.44083554169, 943.0993217212433, 742.1031288235881, 675.9661441343274, 561.1064895706234, 517.6779922100662, 508.50892399066, 473.96803710391737, 390.28394303251315, 372.3158862414735, 351.099210000847, 332.33597680061854, 310.81522343448745, 305.6813475480759, 302.07264791575096, 297.7982557812107, 282.0753691628141, 272.5403545980287, 268.86914166115554, 266.2759130749016, 261.36776933107546, 246.50972998051657, 216.9099111945513, 205.60405058470346, 203.97846473200545, 202.9410031241163, 200.04538033239723, 195.80570341228758, 1283.233302039269, 864.6226488406087, 1822.7092971629495, 2346.256204362254, 681.1161865017684, 802.3057124487594, 684.1528841064232, 1035.1132521911352, 1358.9191707478608, 1870.7628323381239, 2101.0722596331793, 4435.31127786426, 813.8510101687859, 562.7875529486738, 684.6360401204967, 2227.0236609723797, 1711.172311715466, 2995.5705570660857, 738.1972938791497, 817.6538235070182, 2851.7135113323893, 5367.7864195170405, 1661.9857366285855, 786.2908939869133, 2175.7889400321124, 2076.901963740073, 2061.8319444145777, 2278.9259608665743, 5921.085090684453, 6854.923272131309, 1105.9549181113812, 1048.1839076073916, 1018.4915528851852, 899.412065121638, 823.7333957237604, 786.4010797192128, 760.4943996706319, 689.9131899576668, 526.448946004065, 489.1518250512339, 482.72817755073515, 448.0884663994095, 428.5775967104696, 420.76730119894773, 397.55570927021523, 385.2897456371097, 377.8393715995334, 360.38351846256836, 351.9143582398336, 345.48181999239443, 345.45625151547205, 332.6774150985801, 309.84524294037885, 307.4268099322245, 261.4628785217808, 256.4142904007881, 246.54168175771187, 242.31222149061827, 235.81240491060512, 231.49190658087693, 1232.0308714148014, 2819.059116991238, 1034.37030711061, 494.2307425507194, 470.35796472760524, 938.4744681129846, 1316.7353231260624, 836.4186509032573, 588.8254277578467, 616.7588655850033, 740.8581863265389, 1229.6553496519205, 6854.923272131309, 689.6545520939621, 2166.430654186387, 678.8161705220035, 532.4858101182075, 2378.7062622337726, 706.5692302487288, 1354.059605119665, 1974.2792354775906, 1165.3772468425866, 3623.197240719929, 769.4942780782353, 1100.4215921284292, 1083.8035165061115, 1559.7375709933845, 4754.651755056598, 42743.155541543485, 1389.5933496715816, 1383.1566131471925, 886.8722796541513, 851.4135061645551, 724.4480855952348, 719.5761801308174, 689.9976335580653, 655.7252151216605, 482.22289112373306, 454.5088825029942, 418.7554740570681, 392.64394752229464, 330.1991875714056, 329.33898581986153, 326.0673111069379, 267.63365994403205, 243.85993478262264, 207.14979090730935, 191.81016654424693, 149.56847468769735, 146.27723707728313, 127.95843812402993, 86.61487699487472, 67.43671094527102, 66.91064619442223, 59.82797513469987, 56.01569819275149, 44.2262755130632, 40.77216158326136, 1172.9020583459665, 979.7632730584162, 928.2621726349373, 817.5618750627326, 806.2708339866498, 768.0820363014595, 622.0479518720372, 587.8277593525951, 456.870653127172, 452.94967212091524, 441.03058198912686, 428.5634877133482, 422.10588857062555, 417.0570174858455, 402.61100988802013, 376.85773667873417, 354.72738920143917, 334.27160283840107, 310.04726685969575, 298.9769875005696, 293.40495964462724, 293.1876300508771, 290.2968231013319, 289.1707766997286, 280.9511116387887, 275.0476717642568, 252.74517950582856, 251.36226326186667, 244.22882070663357, 224.7490036174237, 791.424329790987, 751.7596395730534, 1747.1928269803634, 2009.2353151559028, 387.9035264028381, 765.0787887971591, 814.4717154938619, 2262.9446503976087, 1293.2780907084311, 2378.7062622337726, 576.2261042860625, 2590.4672771220166, 1184.9314247313132, 1095.3071095921691, 967.5861717820087, 884.0961948265478, 547.390486106457, 492.66617117022827, 449.32167218133117, 408.34859391771624, 384.8678033788888, 379.81028122459855, 328.39501573978737, 777.7905883764757, 312.6635584754638, 303.0173285238128, 299.3782684179005, 235.79755413908737, 202.8487961106836, 201.27395835593762, 201.03717871581358, 194.0186113667509, 184.08610531882007, 171.98948465625008, 158.35217967835746, 136.8259295279521, 119.27001472907278, 115.813349469634, 112.96410677991308, 111.54573599269722, 106.33338280862873, 2751.110611505614, 983.9964485230593, 1767.9387033307303, 696.6580693386351, 375.47804625193044, 953.2852464909028, 366.28969647093214, 523.1978444278984, 954.7590120423662, 879.1801216099503, 2262.9446503976087, 2009.2353151559028, 1056.2759601882726, 1944.746301842216, 1251.4831413411098, 1166.4174716736834, 1016.1131974096066, 866.2589828050878, 512.936855645155, 341.0918130902871, 324.4681120485126, 313.53738647487734, 308.2780397490068, 300.319140821814, 284.1658814917512, 281.31677330022694, 270.3760975837931, 212.77182196253088, 207.54792103797845, 204.68171025637415, 204.6278832875081, 191.2955780610855, 185.61790758358686, 174.90551548685673, 172.9051190494983, 172.84554476560757, 160.4966580104403, 157.67856488429143, 156.95864800558323, 154.27447672689877, 144.2745072499635, 142.40951377631637, 127.40155894192903, 1088.4398157094224, 1497.7540685036688, 735.2212123300216, 814.9386617290887, 403.19879427175766, 325.589784428142, 448.388280994095, 1150.038192360322, 1895.28203854686, 1539.0154331745302, 581.8673500035972, 1368.3385225534075, 3130.1874222364586, 823.7220078828486, 960.8072494525414, 1122.5038735137775, 2611.5958058415913, 757.3681429373974, 661.9942979642492, 617.7571432743516, 453.01136110101, 443.86444015351555, 410.8606068126675, 388.24704798491695, 378.94125996869997, 377.89217255314, 362.071170558777, 351.470796186383, 344.81310364158037, 343.45929200517156, 328.13291848547175, 262.92296571429915, 250.99853099913335, 246.6246062181146, 242.72314757901734, 203.11797272466612, 194.56128794851244, 190.05317954962194, 181.38424650815492, 165.21500268125607, 147.0312533152285, 143.518667338211, 142.9284689955258, 139.66603372898965, 135.27243013372387, 133.36426038502202, 326.63857099805773, 1506.0841851516755, 1998.5104252970148, 509.90530365704217, 684.1753968143746, 1126.4689830794728, 1488.30379825262, 1694.7086447548256, 1744.2674016690364, 4318.62299023644, 5586.620160968155, 1470.3574201363872, 1083.5366344705453, 731.6280237343035, 710.2142470278336, 672.3632628799472, 624.1742981960542, 581.67360104408, 498.3176008983888, 494.91551108941525, 445.9453171335462, 366.43505612048347, 339.7855471644252, 339.7569218376943, 324.7497267532558, 298.029540914204, 270.8711108358498, 269.7364106737375, 254.42551471830046, 247.01161994502812, 198.86628509821406, 195.7731499063027, 190.38294034591937, 180.02302597761016, 174.70490943232076, 168.54197823866303, 167.56430654504817, 166.3040030487683, 159.03886702289745, 147.12823396296247, 146.11334286848708, 469.9814823709693, 291.40274759498146, 615.5889603079021, 1215.3960315398485, 4435.31127786426, 274.61500062602033, 3337.0227898756957, 2744.52798408708, 2101.0722596331793, 5607.512948874903, 4754.651755056598, 677.0120008551579, 635.5552774032046, 575.2827602420916, 564.7481546247027, 521.7520793235116, 494.94911952974826, 395.93217152855783, 362.9043489726373, 355.05628301265324, 351.9030211370988, 318.52265285470264, 318.17791170547497, 278.3372886566774, 261.70426726225173, 224.60698496361618, 220.29622133862972, 197.30500006006412, 186.87927575049864, 173.21722504522214, 171.88198310811367, 170.51071674454928, 168.44959594417477, 146.1977254481148, 141.1692597235394, 136.6444231484863, 134.41075101353445, 124.14508434747728, 123.72616780328585, 117.5361917133724, 104.40077984602152, 1380.3188990813583, 895.6968607669669, 1071.3720266553448, 1998.5104252970148, 923.3235496643558, 1325.2264842022182, 335.8364258549733, 627.3188342031598, 795.7426913317377, 6725.059581310367, 445.58079996966575, 1881.557073510893, 501.1879791618454, 1578.0104482078182, 1033.6345388644372, 756.9337065387896, 553.6825903760281, 521.4550147395449, 432.3199172456071, 430.1192219230397, 303.02839308359097, 302.6005604876269, 299.3189803461826, 294.99623938787613, 261.6862069243591, 234.7955345224084, 228.25872382543992, 227.841595882362, 213.45750320175588, 194.45495967222175, 193.84717092015376, 183.35937152601906, 178.920427621485, 167.70475640732406, 160.9349160531072, 152.36047336472188, 151.8201432344864, 148.64926404778825, 145.73976047629193, 142.87169023902248, 127.25266961309472, 125.43843590813701, 124.20753771924291, 1997.0945648681986, 1696.2382772123165, 1293.2780907084311, 1132.953146368755, 1872.4499400548286, 1631.8746106753078, 990.955110781254, 874.0856973905575, 542.1552647226642, 491.5739342773052, 457.597675768226, 347.9277438005874, 254.5136256237197, 233.80597427619276, 219.65608750717968, 218.4425662237959, 211.8947590779089, 207.3506633362923, 192.14659760131465, 191.29035182589502, 189.12124418144845, 111.05150744132675, 98.9535999375528, 94.91077094252005, 91.10663986577842, 87.34868465508093, 81.12366434024527, 75.09553116566528, 69.88410039620412, 61.20249826794496, 45.40603249794597, 40.133118645638426, 39.603615731523846, 39.111757132772176, 174.80177760666567, 384.88512510686746, 574.3532478385083, 2616.4848275131735, 196.11764241792915, 1217.0126975919502, 531.8732754799702, 3300.4897822533394, 1181.0668030640395, 685.8543591163229, 656.2510721764191, 580.3152334390159, 435.39387197830297, 433.8562026761573, 377.6675327574248, 359.29591423778146, 358.79978065695576, 330.9183757576979, 324.7884993306847, 270.59443520959076, 243.3328796727251, 230.56199948423802, 220.5204437458296, 209.08648388923197, 184.59377877122645, 177.51138804937904, 172.53817754812954, 157.87372382702378, 140.57763227420958, 130.0442527983854, 127.51242227039747, 116.44380288042278, 115.91600312854618, 112.07958765301727, 105.25113874242567, 103.43083304884658, 74.83899212308386, 47.00311015137328, 3067.9592074264933, 369.1247991749848, 2175.7889400321124, 838.6520454106242, 1385.9588768088208, 872.8952430094969, 743.3288763716098, 610.857796396186, 536.8409538619235, 483.5851392790683, 434.24193856034873, 406.3587545185522, 355.67195563721344, 313.92980282668105, 299.7526795637239, 287.81363029188594, 254.17788898321254, 253.5309015583684, 239.3242106999715, 213.0318664455899, 178.9719041837463, 167.36593907815887, 164.13804608288055, 158.6234429394479, 158.4591161380331, 152.40015962322394, 149.65490491770666, 133.44781373909817, 123.86561358760618, 123.18235088835516, 100.58927616374505, 87.47861095086931, 87.33024017725594, 85.40322042337534, 395.51784734801595, 146.7869274100863, 4318.62299023644, 822.980447603904, 752.0038185630399, 504.7417498924779, 455.13428249917644, 420.9708171819143, 366.0882843211675, 351.41091260715416, 339.83670285626425, 328.1940922527046, 317.22513790683985, 290.6776655582838, 257.32531766896824, 249.258982388487, 244.59866756560388, 222.4499954135884, 201.2198334978401, 192.5863556701994, 192.5210759094223, 190.9368440495708, 186.9492623363901, 179.549505845661, 178.88433375761173, 173.05586307284736, 172.78954586304357, 167.20577535592844, 162.17066242830433, 151.3715892882521, 150.8469115327809, 113.16841741020382, 101.64253008395244, 481.3728616642187, 649.6285145867299, 802.3313984553824, 329.85419377848666, 1449.8371622877103, 396.2059313571874, 391.2586266938073, 386.804806174813, 364.4188608968279, 313.1453983470604, 286.292408921724, 285.323671800794, 274.6697890454779, 252.91944941663024, 247.23603586154695, 243.15119721201665, 213.756934968203, 201.8595494590464, 191.43957449050123, 145.89924855591025, 145.45469924613926, 131.22128525114158, 129.94147766975934, 124.98076391751904, 112.95569523819596, 112.6091824431545, 109.23884597839289, 109.13778633081476, 102.07398774338553, 80.34600589156963, 79.1297291783995, 60.076429326675225, 55.8795653584986, 47.25378875757981, 229.98061343890598, 105.00603317624201, 644.3701570444534, 212.5725095457304, 367.84458990690564, 1378.4954267535297, 1462.157847731255, 1480.890349479193, 565.6062814433875, 482.13623739025877, 479.0298730859116, 456.39732321247214, 367.57098622462894, 349.6444948496863, 310.32479619558796, 266.9649554742418, 231.71761372185176, 150.16744292798117, 146.62555365835843, 146.11637354907805, 121.74620316961017, 92.57353024464878, 90.97175067722237, 88.22627183735456, 84.94032399648407, 82.88108973440181, 79.22739972671397, 78.83362383680077, 78.22082591286645, 65.78292741025125, 56.136936382544405, 55.63550967662979, 55.05802115502617, 48.828905864573784, 46.23240146880179, 45.06080409681541, 42.888868208238534, 499.2838745870949, 77.58431066712478, 736.7461047969807, 1380.3188990813583, 684.1753968143746, 381.246488875942, 326.6348844700741, 605.1122734218804, 142.94628256538977], \"Category\": [\"Default\", \"Default\", \"Default\", \"Default\", \"Default\", \"Default\", \"Default\", \"Default\", \"Default\", \"Default\", \"Default\", \"Default\", \"Default\", \"Default\", \"Default\", \"Default\", \"Default\", \"Default\", \"Default\", \"Default\", \"Default\", \"Default\", \"Default\", \"Default\", \"Default\", \"Default\", \"Default\", \"Default\", \"Default\", \"Default\", \"Topic1\", \"Topic1\", \"Topic1\", \"Topic1\", \"Topic1\", \"Topic1\", \"Topic1\", \"Topic1\", \"Topic1\", \"Topic1\", \"Topic1\", \"Topic1\", \"Topic1\", \"Topic1\", \"Topic1\", \"Topic1\", \"Topic1\", \"Topic1\", \"Topic1\", \"Topic1\", \"Topic1\", \"Topic1\", \"Topic1\", \"Topic1\", \"Topic1\", \"Topic1\", \"Topic1\", \"Topic1\", \"Topic1\", \"Topic1\", \"Topic1\", \"Topic1\", \"Topic1\", \"Topic1\", \"Topic1\", \"Topic1\", \"Topic1\", \"Topic1\", \"Topic1\", \"Topic1\", \"Topic1\", \"Topic1\", \"Topic1\", \"Topic1\", \"Topic1\", \"Topic1\", \"Topic1\", \"Topic1\", \"Topic1\", \"Topic1\", \"Topic1\", \"Topic1\", \"Topic1\", \"Topic1\", \"Topic2\", \"Topic2\", \"Topic2\", \"Topic2\", \"Topic2\", \"Topic2\", \"Topic2\", \"Topic2\", \"Topic2\", \"Topic2\", \"Topic2\", \"Topic2\", \"Topic2\", \"Topic2\", \"Topic2\", \"Topic2\", \"Topic2\", \"Topic2\", \"Topic2\", \"Topic2\", \"Topic2\", \"Topic2\", \"Topic2\", \"Topic2\", \"Topic2\", \"Topic2\", \"Topic2\", \"Topic2\", \"Topic2\", \"Topic2\", \"Topic2\", \"Topic2\", \"Topic2\", \"Topic2\", \"Topic2\", \"Topic2\", \"Topic2\", \"Topic2\", \"Topic2\", \"Topic2\", \"Topic2\", \"Topic2\", \"Topic2\", \"Topic2\", \"Topic2\", \"Topic2\", \"Topic2\", \"Topic2\", \"Topic2\", \"Topic2\", \"Topic2\", \"Topic2\", \"Topic2\", \"Topic2\", \"Topic2\", \"Topic2\", \"Topic2\", \"Topic2\", \"Topic2\", \"Topic3\", \"Topic3\", \"Topic3\", \"Topic3\", \"Topic3\", \"Topic3\", \"Topic3\", \"Topic3\", \"Topic3\", \"Topic3\", \"Topic3\", \"Topic3\", \"Topic3\", \"Topic3\", \"Topic3\", \"Topic3\", \"Topic3\", \"Topic3\", \"Topic3\", \"Topic3\", \"Topic3\", \"Topic3\", \"Topic3\", \"Topic3\", \"Topic3\", \"Topic3\", \"Topic3\", \"Topic3\", \"Topic3\", \"Topic3\", \"Topic3\", \"Topic3\", \"Topic3\", \"Topic3\", \"Topic3\", \"Topic3\", \"Topic3\", \"Topic3\", \"Topic3\", \"Topic3\", \"Topic3\", \"Topic3\", \"Topic3\", \"Topic3\", \"Topic3\", \"Topic3\", \"Topic3\", \"Topic3\", \"Topic3\", \"Topic3\", \"Topic3\", \"Topic3\", \"Topic4\", \"Topic4\", \"Topic4\", \"Topic4\", \"Topic4\", \"Topic4\", \"Topic4\", \"Topic4\", \"Topic4\", \"Topic4\", \"Topic4\", \"Topic4\", \"Topic4\", \"Topic4\", \"Topic4\", \"Topic4\", \"Topic4\", \"Topic4\", \"Topic4\", \"Topic4\", \"Topic4\", \"Topic4\", \"Topic4\", \"Topic4\", \"Topic4\", \"Topic4\", \"Topic4\", \"Topic4\", \"Topic4\", \"Topic4\", \"Topic4\", \"Topic4\", \"Topic4\", \"Topic4\", \"Topic4\", \"Topic4\", \"Topic4\", \"Topic4\", \"Topic4\", \"Topic4\", \"Topic4\", \"Topic4\", \"Topic4\", \"Topic4\", \"Topic4\", \"Topic4\", \"Topic4\", \"Topic4\", \"Topic4\", \"Topic4\", \"Topic4\", \"Topic4\", \"Topic4\", \"Topic4\", \"Topic4\", \"Topic4\", \"Topic4\", \"Topic4\", \"Topic4\", \"Topic5\", \"Topic5\", \"Topic5\", \"Topic5\", \"Topic5\", \"Topic5\", \"Topic5\", \"Topic5\", \"Topic5\", \"Topic5\", \"Topic5\", \"Topic5\", \"Topic5\", \"Topic5\", \"Topic5\", \"Topic5\", \"Topic5\", \"Topic5\", \"Topic5\", \"Topic5\", \"Topic5\", \"Topic5\", \"Topic5\", \"Topic5\", \"Topic5\", \"Topic5\", \"Topic5\", \"Topic5\", \"Topic5\", \"Topic5\", \"Topic5\", \"Topic5\", \"Topic5\", \"Topic5\", \"Topic5\", \"Topic5\", \"Topic5\", \"Topic5\", \"Topic5\", \"Topic5\", \"Topic5\", \"Topic5\", \"Topic5\", \"Topic5\", \"Topic5\", \"Topic5\", \"Topic5\", \"Topic5\", \"Topic5\", \"Topic5\", \"Topic5\", \"Topic5\", \"Topic5\", \"Topic5\", \"Topic5\", \"Topic5\", \"Topic5\", \"Topic5\", \"Topic5\", \"Topic5\", \"Topic6\", \"Topic6\", \"Topic6\", \"Topic6\", \"Topic6\", \"Topic6\", \"Topic6\", \"Topic6\", \"Topic6\", \"Topic6\", \"Topic6\", \"Topic6\", \"Topic6\", \"Topic6\", \"Topic6\", \"Topic6\", \"Topic6\", \"Topic6\", \"Topic6\", \"Topic6\", \"Topic6\", \"Topic6\", \"Topic6\", \"Topic6\", \"Topic6\", \"Topic6\", \"Topic6\", \"Topic6\", \"Topic6\", \"Topic6\", \"Topic6\", \"Topic6\", \"Topic6\", \"Topic6\", \"Topic6\", \"Topic6\", \"Topic6\", \"Topic6\", \"Topic6\", \"Topic6\", \"Topic6\", \"Topic6\", \"Topic6\", \"Topic6\", \"Topic6\", \"Topic6\", \"Topic6\", \"Topic6\", \"Topic6\", \"Topic6\", \"Topic6\", \"Topic6\", \"Topic6\", \"Topic6\", \"Topic6\", \"Topic6\", \"Topic6\", \"Topic6\", \"Topic7\", \"Topic7\", \"Topic7\", \"Topic7\", \"Topic7\", \"Topic7\", \"Topic7\", \"Topic7\", \"Topic7\", \"Topic7\", \"Topic7\", \"Topic7\", \"Topic7\", \"Topic7\", \"Topic7\", \"Topic7\", \"Topic7\", \"Topic7\", \"Topic7\", \"Topic7\", \"Topic7\", \"Topic7\", \"Topic7\", \"Topic7\", \"Topic7\", \"Topic7\", \"Topic7\", \"Topic7\", \"Topic7\", \"Topic7\", \"Topic8\", \"Topic8\", \"Topic8\", \"Topic8\", \"Topic8\", \"Topic8\", \"Topic8\", \"Topic8\", \"Topic8\", \"Topic8\", \"Topic8\", \"Topic8\", \"Topic8\", \"Topic8\", \"Topic8\", \"Topic8\", \"Topic8\", \"Topic8\", \"Topic8\", \"Topic8\", \"Topic8\", \"Topic8\", \"Topic8\", \"Topic8\", \"Topic8\", \"Topic8\", \"Topic8\", \"Topic8\", \"Topic8\", \"Topic8\", \"Topic8\", \"Topic8\", \"Topic8\", \"Topic8\", \"Topic8\", \"Topic8\", \"Topic8\", \"Topic8\", \"Topic8\", \"Topic8\", \"Topic8\", \"Topic9\", \"Topic9\", \"Topic9\", \"Topic9\", \"Topic9\", \"Topic9\", \"Topic9\", \"Topic9\", \"Topic9\", \"Topic9\", \"Topic9\", \"Topic9\", \"Topic9\", \"Topic9\", \"Topic9\", \"Topic9\", \"Topic9\", \"Topic9\", \"Topic9\", \"Topic9\", \"Topic9\", \"Topic9\", \"Topic9\", \"Topic9\", \"Topic9\", \"Topic9\", \"Topic9\", \"Topic9\", \"Topic9\", \"Topic9\", \"Topic9\", \"Topic9\", \"Topic9\", \"Topic9\", \"Topic9\", \"Topic9\", \"Topic9\", \"Topic9\", \"Topic9\", \"Topic9\", \"Topic9\", \"Topic9\", \"Topic9\", \"Topic10\", \"Topic10\", \"Topic10\", \"Topic10\", \"Topic10\", \"Topic10\", \"Topic10\", \"Topic10\", \"Topic10\", \"Topic10\", \"Topic10\", \"Topic10\", \"Topic10\", \"Topic10\", \"Topic10\", \"Topic10\", \"Topic10\", \"Topic10\", \"Topic10\", \"Topic10\", \"Topic10\", \"Topic10\", \"Topic10\", \"Topic10\", \"Topic10\", \"Topic10\", \"Topic10\", \"Topic10\", \"Topic10\", \"Topic10\", \"Topic10\", \"Topic10\", \"Topic10\", \"Topic10\", \"Topic10\", \"Topic10\", \"Topic10\", \"Topic10\", \"Topic10\", \"Topic10\", \"Topic10\", \"Topic10\", \"Topic10\", \"Topic10\", \"Topic10\", \"Topic10\", \"Topic11\", \"Topic11\", \"Topic11\", \"Topic11\", \"Topic11\", \"Topic11\", \"Topic11\", \"Topic11\", \"Topic11\", \"Topic11\", \"Topic11\", \"Topic11\", \"Topic11\", \"Topic11\", \"Topic11\", \"Topic11\", \"Topic11\", \"Topic11\", \"Topic11\", \"Topic11\", \"Topic11\", \"Topic11\", \"Topic11\", \"Topic11\", \"Topic11\", \"Topic11\", \"Topic11\", \"Topic11\", \"Topic11\", \"Topic11\", \"Topic11\", \"Topic11\", \"Topic11\", \"Topic11\", \"Topic11\", \"Topic11\", \"Topic11\", \"Topic11\", \"Topic11\", \"Topic11\", \"Topic11\", \"Topic12\", \"Topic12\", \"Topic12\", \"Topic12\", \"Topic12\", \"Topic12\", \"Topic12\", \"Topic12\", \"Topic12\", \"Topic12\", \"Topic12\", \"Topic12\", \"Topic12\", \"Topic12\", \"Topic12\", \"Topic12\", \"Topic12\", \"Topic12\", \"Topic12\", \"Topic12\", \"Topic12\", \"Topic12\", \"Topic12\", \"Topic12\", \"Topic12\", \"Topic12\", \"Topic12\", \"Topic12\", \"Topic12\", \"Topic12\", \"Topic12\", \"Topic12\", \"Topic12\", \"Topic12\", \"Topic12\", \"Topic12\", \"Topic12\", \"Topic12\", \"Topic12\", \"Topic12\", \"Topic12\", \"Topic13\", \"Topic13\", \"Topic13\", \"Topic13\", \"Topic13\", \"Topic13\", \"Topic13\", \"Topic13\", \"Topic13\", \"Topic13\", \"Topic13\", \"Topic13\", \"Topic13\", \"Topic13\", \"Topic13\", \"Topic13\", \"Topic13\", \"Topic13\", \"Topic13\", \"Topic13\", \"Topic13\", \"Topic13\", \"Topic13\", \"Topic13\", \"Topic13\", \"Topic13\", \"Topic13\", \"Topic13\", \"Topic13\", \"Topic13\", \"Topic13\", \"Topic13\", \"Topic13\", \"Topic13\", \"Topic13\", \"Topic13\", \"Topic13\", \"Topic13\", \"Topic13\", \"Topic13\", \"Topic13\", \"Topic13\", \"Topic13\", \"Topic14\", \"Topic14\", \"Topic14\", \"Topic14\", \"Topic14\", \"Topic14\", \"Topic14\", \"Topic14\", \"Topic14\", \"Topic14\", \"Topic14\", \"Topic14\", \"Topic14\", \"Topic14\", \"Topic14\", \"Topic14\", \"Topic14\", \"Topic14\", \"Topic14\", \"Topic14\", \"Topic14\", \"Topic14\", \"Topic14\", \"Topic14\", \"Topic14\", \"Topic14\", \"Topic14\", \"Topic14\", \"Topic14\", \"Topic14\", \"Topic14\", \"Topic14\", \"Topic14\", \"Topic14\", \"Topic15\", \"Topic15\", \"Topic15\", \"Topic15\", \"Topic15\", \"Topic15\", \"Topic15\", \"Topic15\", \"Topic15\", \"Topic15\", \"Topic15\", \"Topic15\", \"Topic15\", \"Topic15\", \"Topic15\", \"Topic15\", \"Topic15\", \"Topic15\", \"Topic15\", \"Topic15\", \"Topic15\", \"Topic15\", \"Topic15\", \"Topic15\", \"Topic15\", \"Topic15\", \"Topic15\", \"Topic15\", \"Topic15\", \"Topic15\", \"Topic15\", \"Topic15\", \"Topic15\", \"Topic15\", \"Topic15\", \"Topic15\", \"Topic15\", \"Topic15\", \"Topic16\", \"Topic16\", \"Topic16\", \"Topic16\", \"Topic16\", \"Topic16\", \"Topic16\", \"Topic16\", \"Topic16\", \"Topic16\", \"Topic16\", \"Topic16\", \"Topic16\", \"Topic16\", \"Topic16\", \"Topic16\", \"Topic16\", \"Topic16\", \"Topic16\", \"Topic16\", \"Topic16\", \"Topic16\", \"Topic16\", \"Topic16\", \"Topic16\", \"Topic16\", \"Topic16\", \"Topic16\", \"Topic16\", \"Topic16\", \"Topic16\", \"Topic16\", \"Topic16\", \"Topic16\", \"Topic17\", \"Topic17\", \"Topic17\", \"Topic17\", \"Topic17\", \"Topic17\", \"Topic17\", \"Topic17\", \"Topic17\", \"Topic17\", \"Topic17\", \"Topic17\", \"Topic17\", \"Topic17\", \"Topic17\", \"Topic17\", \"Topic17\", \"Topic17\", \"Topic17\", \"Topic17\", \"Topic17\", \"Topic17\", \"Topic17\", \"Topic17\", \"Topic17\", \"Topic17\", \"Topic17\", \"Topic17\", \"Topic17\", \"Topic17\", \"Topic17\", \"Topic17\", \"Topic17\", \"Topic18\", \"Topic18\", \"Topic18\", \"Topic18\", \"Topic18\", \"Topic18\", \"Topic18\", \"Topic18\", \"Topic18\", \"Topic18\", \"Topic18\", \"Topic18\", \"Topic18\", \"Topic18\", \"Topic18\", \"Topic18\", \"Topic18\", \"Topic18\", \"Topic18\", \"Topic18\", \"Topic18\", \"Topic18\", \"Topic18\", \"Topic18\", \"Topic18\", \"Topic18\", \"Topic18\", \"Topic18\", \"Topic18\", \"Topic18\", \"Topic18\", \"Topic18\", \"Topic18\", \"Topic18\", \"Topic19\", \"Topic19\", \"Topic19\", \"Topic19\", \"Topic19\", \"Topic19\", \"Topic19\", \"Topic19\", \"Topic19\", \"Topic19\", \"Topic19\", \"Topic19\", \"Topic19\", \"Topic19\", \"Topic19\", \"Topic19\", \"Topic19\", \"Topic19\", \"Topic19\", \"Topic19\", \"Topic19\", \"Topic19\", \"Topic19\", \"Topic19\", \"Topic19\", \"Topic19\", \"Topic19\", \"Topic19\", \"Topic19\", \"Topic19\", \"Topic19\", \"Topic19\", \"Topic19\", \"Topic19\", \"Topic19\", \"Topic19\", \"Topic19\", \"Topic20\", \"Topic20\", \"Topic20\", \"Topic20\", \"Topic20\", \"Topic20\", \"Topic20\", \"Topic20\", \"Topic20\", \"Topic20\", \"Topic20\", \"Topic20\", \"Topic20\", \"Topic20\", \"Topic20\", \"Topic20\", \"Topic20\", \"Topic20\", \"Topic20\", \"Topic20\", \"Topic20\", \"Topic20\", \"Topic20\", \"Topic20\", \"Topic20\", \"Topic20\", \"Topic20\", \"Topic20\", \"Topic20\", \"Topic20\", \"Topic20\", \"Topic20\", \"Topic20\", \"Topic20\", \"Topic20\", \"Topic20\", \"Topic20\", \"Topic20\", \"Topic20\"], \"logprob\": [30.0, 29.0, 28.0, 27.0, 26.0, 25.0, 24.0, 23.0, 22.0, 21.0, 20.0, 19.0, 18.0, 17.0, 16.0, 15.0, 14.0, 13.0, 12.0, 11.0, 10.0, 9.0, 8.0, 7.0, 6.0, 5.0, 4.0, 3.0, 2.0, 1.0, -3.52, -3.9781, -4.3131, -4.4508, -4.5098, -4.8999, -4.9572, -4.9661, -5.1916, -5.2354, -5.5161, -5.5413, -5.5479, -5.3812, -5.6627, -4.6043, -5.681, -5.78, -4.038, -5.924, -5.9897, -6.0063, -6.0922, -3.9642, -6.1774, -6.2055, -6.2271, -6.2812, -6.4269, -6.4859, -3.4977, -4.2692, -4.8818, -3.7112, -3.4982, -3.8094, -4.8424, -4.6743, -3.139, -4.0138, -4.2665, -4.0655, -3.7398, -4.7095, -4.3183, -4.1143, -4.2836, -3.8569, -3.8435, -4.6162, -4.5918, -4.4992, -4.6417, -4.646, -3.848, -3.9695, -4.3403, -4.4295, -4.4883, -4.6636, -4.7642, -4.9984, -5.0248, -5.0372, -5.0532, -5.0602, -5.2038, -5.2082, -5.3065, -5.3908, -5.4271, -5.4814, -5.4911, -5.5851, -5.7227, -5.7368, -5.7499, -5.7546, -5.8329, -5.8389, -5.8469, -5.8852, -5.9747, -6.0398, -5.3559, -3.8581, -4.3074, -5.0818, -4.5793, -4.6074, -4.7777, -4.2297, -5.0519, -3.1778, -4.5612, -5.3634, -4.5985, -3.5705, -4.4545, -5.1305, -5.0069, -5.1687, -5.024, -4.7141, -4.7082, -5.0255, -4.4143, -4.5596, -4.7774, -4.8658, -4.8799, -4.9197, -4.9717, -4.2517, -4.3012, -4.5366, -4.5631, -4.671, -4.8244, -4.4191, -4.9213, -4.9328, -4.9745, -5.0169, -5.1321, -5.1381, -5.1419, -5.1485, -5.1969, -5.2846, -5.2979, -5.305, -5.3326, -5.3507, -5.3518, -5.3631, -5.3959, -5.4725, -5.52, -5.6034, -5.6144, -5.6164, -5.6817, -4.0837, -4.4998, -4.9866, -3.3189, -3.5638, -3.8965, -4.9154, -4.0057, -4.7565, -4.3994, -4.87, -4.2891, -4.5503, -4.6621, -4.1763, -4.4343, -4.3294, -4.23, -4.38, -4.7199, -4.8606, -4.9368, -4.2019, -4.3056, -4.538, -5.1052, -5.1508, -5.1868, -5.1927, -5.2128, -5.3103, -5.3415, -5.3738, -5.4458, -5.4553, -5.4888, -5.5148, -5.5445, -5.6269, -4.9674, -5.6618, -5.6674, -5.7045, -5.7288, -5.7355, -5.8094, -5.8151, -5.8153, -5.8689, -5.8966, -5.9357, -5.9376, -4.0897, -4.8401, -4.2449, -4.6142, -5.3811, -4.5288, -4.9746, -3.4071, -5.1609, -3.814, -4.1134, -5.0431, -5.0657, -4.7504, -3.7202, -3.4763, -4.2816, -4.8246, -4.859, -4.6426, -4.3925, -4.1723, -3.979, -4.1416, -4.7353, -5.0056, -4.7643, -4.8635, -4.8853, -3.7479, -3.8606, -4.2394, -4.4349, -4.675, -4.7685, -4.9552, -5.0359, -5.0538, -5.1244, -5.3192, -5.3665, -5.4254, -5.4805, -5.5478, -5.5645, -5.5764, -5.5907, -5.6452, -5.6798, -5.6934, -5.7031, -5.7218, -5.7807, -5.9093, -5.9632, -5.9712, -5.9763, -5.9908, -6.0124, -4.1341, -4.5376, -3.8003, -3.5715, -4.7914, -4.6515, -4.8149, -4.4373, -4.2025, -3.9146, -3.8131, -3.1658, -4.7015, -5.0283, -4.8602, -3.8378, -4.0867, -3.6255, -4.8414, -4.7641, -3.9114, -3.5362, -4.3807, -4.8158, -4.2935, -4.3836, -4.4909, -4.4599, -4.194, -4.7186, -4.0877, -4.1414, -4.1702, -4.2947, -4.3827, -4.4292, -4.4627, -4.5603, -4.8313, -4.905, -4.9182, -4.9929, -5.0376, -5.056, -5.1129, -5.1444, -5.164, -5.2114, -5.2353, -5.2538, -5.2539, -5.2917, -5.3631, -5.371, -5.5337, -5.5533, -5.5928, -5.6102, -5.6375, -5.6561, -3.9847, -3.1662, -4.1643, -4.899, -4.9502, -4.2939, -3.9743, -4.4181, -4.76, -4.7219, -4.5592, -4.1001, -2.6355, -4.6456, -3.7015, -4.6734, -4.8748, -3.7908, -4.6733, -4.2194, -3.9679, -4.401, -3.8526, -4.6895, -4.5592, -4.6737, -4.6424, -4.611, -0.2625, -3.6895, -3.6942, -4.1391, -4.18, -4.3417, -4.3485, -4.3905, -4.4416, -4.7496, -4.8089, -4.8911, -4.9557, -5.1295, -5.1321, -5.1421, -5.3405, -5.434, -5.598, -5.6754, -5.926, -5.9485, -6.0835, -6.4785, -6.7329, -6.7409, -6.8551, -6.9224, -7.1648, -7.2486, -3.2579, -3.4381, -3.4922, -3.6193, -3.6333, -3.6819, -3.8932, -3.9499, -4.2025, -4.2112, -4.2379, -4.2667, -4.2819, -4.294, -4.3294, -4.3957, -4.4564, -4.5161, -4.5916, -4.6281, -4.647, -4.6478, -4.6577, -4.6616, -4.6906, -4.7119, -4.7969, -4.8024, -4.8314, -4.915, -3.6663, -3.7584, -3.3151, -3.2643, -4.5015, -4.1404, -4.1415, -3.9969, -4.2031, -4.0725, -4.467, -2.3807, -3.1634, -3.2421, -3.3663, -3.4567, -3.937, -4.0426, -4.1349, -4.2308, -4.2903, -4.3035, -4.4495, -3.5874, -4.4988, -4.5303, -4.5424, -4.7823, -4.9338, -4.9416, -4.9428, -4.9786, -5.0315, -5.1, -5.1832, -5.3307, -5.4694, -5.4992, -5.5243, -5.5371, -5.5856, -2.3472, -3.4236, -2.8936, -3.7927, -4.4026, -3.5392, -4.5882, -4.3615, -4.0771, -4.1894, -3.8814, -3.9439, -4.7133, -2.6382, -3.0794, -3.1499, -3.288, -3.4478, -3.9729, -4.3822, -4.4323, -4.4668, -4.4837, -4.51, -4.5656, -4.5757, -4.6155, -4.8565, -4.8815, -4.8955, -4.8957, -4.9636, -4.9939, -5.0538, -5.0654, -5.0657, -5.1405, -5.1583, -5.1629, -5.1803, -5.2479, -5.2611, -5.3735, -3.2505, -2.9589, -3.6657, -3.6053, -4.2687, -4.4715, -4.1922, -3.5248, -3.1814, -3.378, -4.3176, -4.0262, -3.9115, -4.6037, -4.6616, -4.646, -2.3391, -3.5782, -3.713, -3.7823, -4.0933, -4.1137, -4.1912, -4.248, -4.2724, -4.2752, -4.3181, -4.3479, -4.3671, -4.3711, -4.4169, -4.6394, -4.6861, -4.7038, -4.7198, -4.899, -4.9423, -4.9659, -5.013, -5.1071, -5.2247, -5.2491, -5.2532, -5.2765, -5.3088, -5.3231, -4.4428, -3.0383, -2.9688, -4.2141, -4.1471, -3.8655, -3.7601, -4.1421, -4.3663, -4.1392, -4.2543, -2.7602, -3.0658, -3.4591, -3.4888, -3.5437, -3.6182, -3.6889, -3.844, -3.8508, -3.9553, -4.1523, -4.2281, -4.2282, -4.2736, -4.3598, -4.4558, -4.46, -4.5187, -4.5485, -4.7666, -4.7824, -4.8105, -4.8668, -4.897, -4.9332, -4.9391, -4.9467, -4.9917, -5.0703, -5.0772, -3.9172, -4.4674, -3.8158, -3.7061, -3.0976, -4.6686, -3.4693, -4.09, -4.2066, -4.0433, -4.5874, -3.5203, -3.5836, -3.6834, -3.702, -3.7814, -3.8342, -4.0581, -4.1455, -4.1675, -4.1764, -4.2765, -4.2776, -4.4119, -4.4739, -4.6276, -4.647, -4.758, -4.8126, -4.8891, -4.8969, -4.905, -4.9172, -5.0601, -5.0954, -5.1283, -5.145, -5.2253, -5.2287, -5.2806, -5.4005, -2.9945, -3.4167, -3.6049, -3.628, -4.112, -3.9438, -4.7286, -4.5017, -4.4214, -3.9162, -4.759, -4.6078, -4.7916, -2.1396, -2.5632, -2.8752, -3.1885, -3.2486, -3.4366, -3.4417, -3.7932, -3.7947, -3.8056, -3.8202, -3.9406, -4.0496, -4.078, -4.0799, -4.1455, -4.2393, -4.2425, -4.2985, -4.3232, -4.3884, -4.4299, -4.4851, -4.4887, -4.51, -4.53, -4.55, -4.6669, -4.6815, -4.6914, -3.6053, -3.8003, -4.389, -4.4904, -1.9031, -2.0407, -2.5401, -2.6657, -3.1443, -3.2425, -3.3143, -3.5892, -3.9033, -3.9886, -4.0514, -4.057, -4.0876, -4.1094, -4.1861, -4.1906, -4.2021, -4.7394, -4.8563, -4.8986, -4.94, -4.9828, -5.0579, -5.1365, -5.2097, -5.3451, -5.6514, -5.7788, -5.7926, -5.8055, -4.439, -4.1708, -4.0467, -3.1407, -4.7736, -4.6628, -4.8767, -4.7185, -2.3343, -2.8787, -2.9229, -3.0461, -3.3342, -3.3377, -3.4769, -3.5269, -3.5283, -3.6095, -3.6283, -3.8117, -3.9184, -3.9726, -4.0174, -4.071, -4.1964, -4.2358, -4.2644, -4.354, -4.4711, -4.5497, -4.5696, -4.6614, -4.666, -4.7, -4.7636, -4.7813, -5.1098, -5.5856, -1.7399, -4.2808, -3.4147, -4.3717, -2.1631, -2.626, -2.787, -2.9836, -3.1131, -3.2178, -3.3258, -3.3924, -3.5261, -3.6514, -3.6978, -3.7386, -3.8635, -3.8661, -3.9241, -4.0411, -4.2165, -4.2841, -4.3037, -4.3382, -4.3392, -4.3786, -4.3969, -4.5126, -4.5879, -4.5935, -4.7986, -4.9402, -4.9419, -4.9646, -3.5577, -4.6609, -4.0242, -2.6646, -2.7549, -3.1544, -3.2582, -3.3365, -3.4766, -3.5177, -3.5513, -3.5863, -3.6204, -3.7082, -3.8307, -3.8627, -3.8817, -3.9771, -4.0781, -4.1222, -4.1226, -4.1309, -4.1521, -4.1928, -4.1965, -4.2299, -4.2315, -4.2646, -4.2954, -4.3649, -4.3684, -4.6587, -4.7675, -3.2195, -2.9904, -2.8177, -4.3569, -1.9277, -3.2275, -3.2401, -3.2515, -3.3114, -3.4636, -3.5537, -3.5571, -3.5953, -3.6782, -3.7011, -3.7178, -3.8474, -3.9051, -3.9584, -4.2322, -4.2353, -4.3393, -4.3492, -4.3885, -4.4908, -4.494, -4.5247, -4.5256, -4.5934, -4.8363, -4.8518, -5.1327, -5.2068, -5.379, -3.9357, -4.6769, -3.4184, -4.439, -4.2965, -4.4426, -4.5648, -1.8006, -2.7646, -2.9247, -2.9311, -2.9797, -3.1968, -3.247, -3.3668, -3.518, -3.6603, -4.0972, -4.1213, -4.1248, -4.3091, -4.5865, -4.6042, -4.6353, -4.6739, -4.6988, -4.7447, -4.7497, -4.7577, -4.9341, -5.0962, -5.1054, -5.1161, -5.2393, -5.2955, -5.3219, -5.3729, -3.2603, -4.8956, -3.2135, -3.6365, -3.9998, -4.2702, -4.4606, -4.3822, -4.8045], \"loglift\": [30.0, 29.0, 28.0, 27.0, 26.0, 25.0, 24.0, 23.0, 22.0, 21.0, 20.0, 19.0, 18.0, 17.0, 16.0, 15.0, 14.0, 13.0, 12.0, 11.0, 10.0, 9.0, 8.0, 7.0, 6.0, 5.0, 4.0, 3.0, 2.0, 1.0, 1.5028, 1.5027, 1.5025, 1.5025, 1.5024, 1.5022, 1.5022, 1.5022, 1.5019, 1.5019, 1.5016, 1.5015, 1.5015, 1.5015, 1.5013, 1.5013, 1.5013, 1.5011, 1.501, 1.5009, 1.5007, 1.5007, 1.5005, 1.5003, 1.5002, 1.5002, 1.5001, 1.4999, 1.4995, 1.4993, 1.488, 1.4879, 1.4809, 1.4503, 1.4416, 1.4273, 1.4556, 1.4467, 1.3546, 1.3874, 1.3999, 1.3605, 1.3182, 1.408, 1.3296, 1.2874, 1.2815, 1.1794, 1.1482, 1.3331, 0.9489, 0.792, 0.9958, 0.916, 2.0609, 2.0609, 2.0606, 2.0605, 2.0605, 2.0603, 2.0602, 2.0599, 2.0599, 2.0599, 2.0598, 2.0598, 2.0596, 2.0596, 2.0594, 2.0592, 2.0591, 2.059, 2.059, 2.0587, 2.0584, 2.0583, 2.0583, 2.0583, 2.058, 2.058, 2.058, 2.0578, 2.0575, 2.0572, 2.0518, 2.0085, 2.0148, 2.0387, 2.0174, 2.0067, 2.0129, 1.9785, 2.0167, 1.8771, 1.9725, 2.03, 1.7302, 1.3257, 1.661, 1.9232, 1.8025, 1.9088, 1.6513, 1.063, 1.0476, 1.6538, 0.0792, 0.432, 0.2807, 0.8077, 0.7917, 0.8724, 1.2634, 2.1139, 2.1139, 2.1137, 2.1136, 2.1135, 2.1133, 2.1133, 2.1132, 2.1132, 2.1131, 2.1131, 2.1129, 2.1129, 2.1129, 2.1128, 2.1128, 2.1126, 2.1126, 2.1125, 2.1125, 2.1124, 2.1124, 2.1124, 2.1123, 2.1122, 2.112, 2.1118, 2.1118, 2.1118, 2.1116, 2.1005, 2.1044, 2.0998, 1.9215, 1.9341, 1.9232, 2.0489, 1.8857, 2.0051, 1.9276, 1.966, 1.7099, 1.7998, 1.8088, 1.5044, 1.5169, 1.2326, 1.0504, 1.1608, 1.3074, 1.2836, 1.703, 2.1898, 2.1897, 2.1895, 2.1887, 2.1886, 2.1885, 2.1885, 2.1885, 2.1882, 2.1882, 2.1881, 2.1879, 2.1879, 2.1878, 2.1877, 2.1876, 2.1874, 2.1874, 2.1873, 2.1873, 2.1872, 2.1871, 2.187, 2.1868, 2.1868, 2.1868, 2.1866, 2.1864, 2.1863, 2.1863, 2.1748, 2.1761, 2.1615, 2.1661, 2.1775, 2.1447, 2.1564, 2.0644, 2.1415, 1.9528, 1.9744, 2.1013, 2.0872, 2.0141, 1.771, 1.706, 1.8402, 1.9988, 1.9904, 1.7898, 1.3846, 1.1189, 0.9172, 0.8947, 1.5334, 1.9005, 1.0913, 0.8171, 0.8704, 2.5852, 2.5851, 2.5847, 2.5845, 2.5841, 2.5839, 2.5835, 2.5833, 2.5833, 2.5831, 2.5825, 2.5823, 2.5821, 2.5819, 2.5816, 2.5815, 2.5815, 2.5814, 2.5812, 2.581, 2.581, 2.5809, 2.5808, 2.5805, 2.5798, 2.5794, 2.5794, 2.5793, 2.5793, 2.5791, 2.5773, 2.5687, 2.5602, 2.5365, 2.5534, 2.5296, 2.5255, 2.489, 2.4516, 2.4199, 2.4053, 2.3055, 2.4653, 2.5074, 2.4795, 2.3224, 2.337, 2.2382, 2.423, 2.398, 2.0015, 1.7442, 2.0721, 2.3855, 1.8899, 1.8463, 1.7463, 1.6772, 0.9884, 0.3173, 2.7725, 2.7724, 2.7723, 2.7722, 2.772, 2.772, 2.7719, 2.7717, 2.7711, 2.7709, 2.7709, 2.7707, 2.7706, 2.7705, 2.7703, 2.7702, 2.7701, 2.77, 2.7699, 2.7698, 2.7698, 2.7697, 2.7694, 2.7693, 2.7686, 2.7685, 2.7683, 2.7682, 2.768, 2.7679, 2.7674, 2.7583, 2.7628, 2.7666, 2.7649, 2.7304, 2.7113, 2.7214, 2.7305, 2.7222, 2.7016, 2.654, 2.4004, 2.6868, 2.4863, 2.6749, 2.7162, 2.3035, 2.6348, 2.4383, 2.3127, 2.4067, 1.8208, 2.5334, 2.3059, 2.2067, 1.874, 0.7907, 2.9431, 2.9423, 2.9423, 2.9418, 2.9417, 2.9415, 2.9414, 2.9414, 2.9413, 2.9406, 2.9404, 2.9402, 2.94, 2.9394, 2.9394, 2.9393, 2.9385, 2.938, 2.9371, 2.9366, 2.9348, 2.9346, 2.9334, 2.9286, 2.9245, 2.9243, 2.9221, 2.9206, 2.9145, 2.912, 3.5434, 3.5432, 3.5431, 3.5429, 3.5429, 3.5428, 3.5424, 3.5423, 3.5416, 3.5416, 3.5415, 3.5414, 3.5414, 3.5414, 3.5412, 3.541, 3.5408, 3.5406, 3.5403, 3.5401, 3.54, 3.54, 3.54, 3.54, 3.5398, 3.5397, 3.5393, 3.5393, 3.5391, 3.5386, 3.5285, 3.4877, 3.0877, 2.9988, 3.4064, 3.0882, 3.0246, 2.1472, 2.5006, 2.0217, 3.0451, 3.6283, 3.6277, 3.6276, 3.6275, 3.6274, 3.6264, 3.6262, 3.6259, 3.6256, 3.6254, 3.6254, 3.6248, 3.6247, 3.6246, 3.6245, 3.6245, 3.6233, 3.6224, 3.6223, 3.6223, 3.6221, 3.6217, 3.6212, 3.6205, 3.6192, 3.6178, 3.6175, 3.6172, 3.617, 3.6164, 3.6016, 3.5534, 3.4974, 3.5295, 3.5378, 3.4694, 3.3769, 3.2471, 2.93, 2.9002, 2.2627, 2.3192, 2.1927, 3.6575, 3.6571, 3.657, 3.6568, 3.6566, 3.6556, 3.6543, 3.6541, 3.6539, 3.6538, 3.6537, 3.6535, 3.6534, 3.6532, 3.6519, 3.6517, 3.6517, 3.6516, 3.6512, 3.651, 3.6505, 3.6505, 3.6505, 3.6499, 3.6497, 3.6497, 3.6495, 3.6489, 3.6488, 3.6477, 3.6256, 3.598, 3.6027, 3.5602, 3.6004, 3.6114, 3.5707, 3.2963, 3.14, 3.1517, 3.1848, 2.6211, 1.9082, 2.551, 2.3392, 2.1992, 3.6618, 3.6606, 3.6603, 3.6602, 3.6594, 3.6593, 3.6591, 3.6589, 3.6588, 3.6588, 3.6587, 3.6586, 3.6585, 3.6585, 3.6583, 3.6573, 3.657, 3.6569, 3.6569, 3.6558, 3.6555, 3.6553, 3.655, 3.6543, 3.6533, 3.6531, 3.653, 3.6528, 3.6525, 3.6524, 3.6369, 3.513, 3.2996, 3.4202, 3.1933, 2.9762, 2.8031, 2.2912, 2.0382, 1.3587, 0.9861, 3.8151, 3.8148, 3.8142, 3.8142, 3.8141, 3.8139, 3.8138, 3.8134, 3.8134, 3.8131, 3.8124, 3.8121, 3.8121, 3.812, 3.8116, 3.8112, 3.8111, 3.8108, 3.8107, 3.8094, 3.8093, 3.8091, 3.8087, 3.8085, 3.8082, 3.8081, 3.8081, 3.8077, 3.807, 3.807, 3.7987, 3.7265, 3.6302, 3.0597, 2.3737, 3.5846, 2.2865, 1.8612, 2.0118, 1.1934, 0.8143, 3.8306, 3.8305, 3.8303, 3.8302, 3.83, 3.8299, 3.8292, 3.8289, 3.8288, 3.8288, 3.8284, 3.8284, 3.8278, 3.8275, 3.8267, 3.8266, 3.8259, 3.8255, 3.8249, 3.8249, 3.8248, 3.8247, 3.8235, 3.8232, 3.8229, 3.8227, 3.8219, 3.8218, 3.8213, 3.8198, 3.644, 3.6543, 3.287, 2.6404, 2.9287, 2.7354, 3.3234, 2.9254, 2.7679, 1.1388, 3.0103, 1.721, 2.86, 4.365, 4.3646, 4.3641, 4.3635, 4.3633, 4.3628, 4.3628, 4.3615, 4.3615, 4.3615, 4.3614, 4.3608, 4.3602, 4.3601, 4.3601, 4.3597, 4.3591, 4.359, 4.3587, 4.3585, 4.358, 4.3577, 4.3572, 4.3572, 4.357, 4.3568, 4.3566, 4.3555, 4.3553, 4.3552, 2.6639, 2.6321, 2.3147, 2.3456, 4.4305, 4.4304, 4.4298, 4.4297, 4.4287, 4.4285, 4.4283, 4.4274, 4.426, 4.4255, 4.4251, 4.4251, 4.4249, 4.4248, 4.4243, 4.4242, 4.4241, 4.4192, 4.4177, 4.4171, 4.4165, 4.4159, 4.4147, 4.4133, 4.412, 4.4092, 4.4015, 4.3975, 4.3971, 4.3966, 4.2659, 3.7448, 3.4687, 2.8583, 3.8163, 2.1016, 2.7155, 1.0483, 4.4601, 4.4593, 4.4592, 4.4589, 4.4582, 4.4581, 4.4577, 4.4575, 4.4575, 4.4572, 4.4571, 4.4563, 4.4558, 4.4555, 4.4552, 4.4549, 4.454, 4.4537, 4.4535, 4.4528, 4.4518, 4.451, 4.4508, 4.4498, 4.4498, 4.4494, 4.4486, 4.4484, 4.4434, 4.4328, 4.0999, 3.6767, 2.7688, 2.7651, 4.4713, 4.4707, 4.4705, 4.4701, 4.4698, 4.4695, 4.4692, 4.469, 4.4685, 4.468, 4.4678, 4.4676, 4.467, 4.467, 4.4667, 4.466, 4.4648, 4.4643, 4.4641, 4.4639, 4.4638, 4.4635, 4.4633, 4.4623, 4.4615, 4.4614, 4.459, 4.457, 4.4569, 4.4566, 4.3307, 4.2187, 1.4737, 4.4911, 4.4909, 4.4901, 4.4898, 4.4896, 4.4891, 4.4889, 4.4888, 4.4887, 4.4885, 4.4882, 4.4876, 4.4874, 4.4873, 4.4868, 4.4861, 4.4858, 4.4858, 4.4858, 4.4856, 4.4853, 4.4853, 4.4851, 4.485, 4.4848, 4.4845, 4.4839, 4.4839, 4.481, 4.4796, 4.4725, 4.4018, 4.3633, 3.713, 4.6616, 4.6592, 4.6592, 4.6591, 4.6589, 4.6583, 4.6579, 4.6579, 4.6577, 4.6573, 4.6572, 4.6571, 4.6563, 4.656, 4.6556, 4.6534, 4.6534, 4.6524, 4.6523, 4.6519, 4.6507, 4.6507, 4.6503, 4.6503, 4.6495, 4.6459, 4.6457, 4.6402, 4.6385, 4.6341, 4.4949, 4.5376, 3.9819, 4.0703, 3.6644, 2.1973, 2.0161, 4.7675, 4.7661, 4.7657, 4.7657, 4.7655, 4.7648, 4.7646, 4.7642, 4.7635, 4.7627, 4.7596, 4.7594, 4.7593, 4.7575, 4.754, 4.7538, 4.7533, 4.7527, 4.7524, 4.7516, 4.7515, 4.7514, 4.7481, 4.7446, 4.7444, 4.7441, 4.741, 4.7394, 4.7386, 4.7371, 4.3951, 4.6216, 4.0529, 3.002, 3.3406, 3.655, 3.6192, 3.0809, 4.1016]}, \"token.table\": {\"Topic\": [17, 18, 2, 16, 16, 2, 4, 8, 18, 3, 8, 14, 3, 1, 2, 5, 12, 11, 5, 1, 2, 10, 13, 1, 2, 3, 4, 5, 8, 20, 17, 17, 16, 1, 7, 3, 9, 2, 6, 3, 8, 18, 14, 19, 1, 4, 6, 9, 13, 19, 2, 2, 4, 13, 20, 13, 1, 2, 2, 4, 5, 16, 6, 20, 11, 2, 6, 17, 6, 19, 11, 13, 14, 13, 17, 10, 11, 3, 11, 7, 1, 4, 13, 7, 1, 4, 16, 9, 1, 4, 9, 16, 2, 3, 6, 15, 19, 12, 5, 20, 1, 2, 2, 18, 17, 1, 7, 18, 1, 3, 11, 4, 16, 4, 19, 20, 5, 13, 2, 17, 14, 9, 17, 4, 5, 3, 4, 10, 19, 20, 20, 9, 1, 3, 10, 3, 7, 2, 3, 4, 5, 11, 16, 16, 1, 2, 3, 4, 10, 7, 12, 10, 3, 4, 19, 20, 6, 11, 6, 4, 6, 17, 4, 2, 6, 2, 1, 3, 5, 9, 10, 4, 1, 10, 7, 2, 13, 3, 11, 6, 2, 18, 11, 13, 5, 13, 20, 13, 2, 11, 11, 5, 4, 12, 13, 7, 9, 11, 14, 14, 3, 3, 1, 2, 4, 5, 14, 2, 3, 5, 2, 6, 11, 18, 1, 3, 10, 11, 19, 9, 3, 11, 17, 2, 14, 14, 9, 7, 18, 16, 14, 15, 12, 2, 10, 20, 9, 15, 10, 19, 1, 2, 4, 4, 2, 11, 13, 11, 18, 5, 10, 11, 13, 14, 15, 14, 20, 20, 17, 11, 17, 16, 10, 10, 1, 7, 14, 9, 11, 3, 9, 11, 4, 5, 10, 2, 13, 2, 12, 15, 6, 19, 4, 8, 11, 3, 10, 11, 2, 6, 13, 18, 3, 19, 3, 5, 8, 7, 1, 2, 3, 6, 9, 11, 2, 7, 6, 6, 8, 9, 3, 9, 19, 3, 1, 15, 7, 15, 3, 12, 7, 3, 10, 3, 17, 11, 5, 12, 2, 19, 1, 11, 16, 20, 5, 5, 6, 8, 20, 18, 9, 3, 9, 14, 16, 11, 1, 3, 4, 5, 7, 11, 10, 10, 14, 15, 13, 1, 2, 4, 5, 4, 5, 12, 2, 17, 2, 6, 12, 11, 2, 3, 5, 6, 11, 17, 19, 11, 19, 2, 4, 17, 9, 9, 10, 18, 19, 2, 4, 2, 2, 12, 16, 16, 1, 3, 20, 7, 4, 11, 6, 19, 20, 9, 5, 12, 15, 5, 1, 2, 3, 4, 5, 15, 4, 13, 4, 4, 5, 15, 16, 4, 15, 1, 19, 4, 2, 3, 5, 6, 9, 17, 2, 4, 13, 4, 16, 5, 13, 19, 10, 18, 15, 20, 10, 16, 2, 3, 8, 6, 9, 13, 11, 1, 3, 4, 9, 13, 19, 1, 4, 5, 12, 2, 1, 12, 11, 13, 12, 16, 13, 2, 4, 10, 5, 6, 8, 1, 18, 20, 1, 20, 4, 14, 4, 1, 3, 1, 4, 8, 5, 10, 12, 1, 3, 4, 5, 1, 3, 10, 12, 19, 11, 4, 12, 15, 5, 20, 1, 3, 10, 15, 5, 1, 2, 3, 6, 2, 17, 20, 15, 18, 5, 9, 19, 17, 4, 12, 14, 6, 5, 7, 2, 3, 8, 9, 12, 13, 3, 4, 8, 10, 12, 2, 8, 8, 9, 20, 3, 8, 9, 11, 14, 13, 13, 3, 9, 6, 3, 10, 5, 7, 8, 17, 17, 13, 2, 8, 11, 2, 2, 8, 2, 13, 1, 14, 20, 11, 7, 13, 20, 1, 2, 4, 5, 14, 13, 6, 1, 3, 6, 10, 19, 5, 12, 4, 12, 19, 2, 2, 4, 15, 4, 6, 1, 2, 3, 10, 12, 8, 6, 16, 8, 2, 1, 4, 1, 20, 14, 11, 1, 2, 4, 8, 10, 18, 6, 1, 4, 5, 14, 1, 3, 4, 12, 1, 2, 5, 10, 19, 3, 8, 3, 8, 1, 2, 3, 4, 5, 6, 2, 4, 13, 17, 9, 1, 2, 3, 4, 5, 6, 8, 6, 20, 12, 1, 2, 1, 2, 3, 5, 6, 9, 1, 1, 2, 6, 1, 11, 17, 18, 8, 4, 8, 18, 13, 18, 3, 12, 7, 3, 5, 11, 7, 10, 13, 12, 19, 3, 9, 10, 7, 1, 10, 3, 5, 10, 19, 17, 17, 13, 8, 4, 3, 4, 1, 2, 13, 13, 2, 3, 4, 6, 1, 4, 8, 9, 14, 2, 1, 3, 11, 3, 5, 12, 8, 1, 2, 4, 3, 5, 10, 11, 5, 4, 5, 12, 1, 4, 1, 3, 12, 11, 2, 3, 6, 11, 4, 20, 3, 5, 6, 12, 9, 10, 2, 3, 4, 6, 12, 13, 20, 3, 17, 6, 15, 11, 6, 13, 2, 15, 5, 8, 6, 10, 7, 1, 3, 5, 8, 19, 5, 19, 3, 5, 11, 1, 15, 4, 5, 6, 4, 19, 3, 16, 10, 14, 2, 3, 5, 7, 11, 6, 18, 8, 8, 8, 1, 10, 3, 12, 12, 1, 2, 4, 5, 13, 8, 12, 18, 19, 3, 2, 8, 18, 1, 15, 15, 4, 11, 5, 13, 19, 19, 19, 12, 12, 1, 2, 4, 12, 20, 8, 11, 13, 7, 9, 6, 5, 6, 16, 4, 10, 16, 4, 15, 9, 4, 1, 10, 5, 11, 11, 4, 1, 10, 1, 3, 4, 6, 8, 13, 3, 18, 3, 6, 3, 10, 3, 9, 19, 11, 19, 11, 11, 13, 20, 2, 2, 3, 6, 9, 11, 19, 8, 11, 8, 4, 4, 4, 1, 2, 5, 6, 16, 15, 20, 15, 15, 10, 16, 15, 1, 2, 3, 5, 6, 16, 9, 17, 1, 1, 2, 10, 8, 19, 16, 18, 2, 12, 6, 8, 7, 14, 11, 2, 8, 18, 9, 2, 2, 18, 1, 3, 13, 4, 13, 18, 3, 6, 15, 2, 11, 3, 6, 4, 9, 13, 17, 9, 20, 17, 1, 6, 1, 2, 4, 11, 2, 4, 10, 13, 18, 9, 8, 6, 1, 3, 4, 15, 13, 1, 13, 1, 20, 8, 10, 3, 9, 19, 1, 2, 4, 5, 19, 11, 2, 17, 18, 15, 3, 5, 3, 5, 11, 16, 12, 3, 4, 12, 15, 11, 14, 11, 11, 1, 2, 4, 5, 6, 1, 2, 4, 10, 3, 5, 8, 9, 14, 2, 18, 12, 1, 3, 8, 14, 2, 3, 4, 6, 7, 17, 4, 20, 7, 16, 2, 5, 19, 4, 13, 18, 20, 7, 14, 19, 13, 3, 6, 3, 19, 13, 14, 4, 11, 5, 8, 6, 1, 2, 9, 13, 19, 19, 9, 14, 3, 6, 12, 12, 1, 3, 16, 12, 15, 12, 1, 4, 15, 2, 10, 11, 2, 9, 4, 16, 20, 14, 8, 17, 5, 18, 18, 14, 2, 3, 1, 6, 19, 19, 20, 1, 3, 11, 17, 19, 1, 2, 4, 5, 5, 11, 12, 10, 6, 15, 11, 3, 11, 19, 19, 1, 2, 4, 5, 6, 2, 14, 13, 15, 15, 2, 9, 11, 1, 3, 1, 2, 1, 2, 1, 2, 5, 14, 2, 6, 12, 16, 1, 3, 4, 5, 6, 12, 19, 12, 8, 20, 19, 16, 8, 16, 15, 20, 13, 2, 3, 17, 1, 2, 3, 4, 13, 13, 1, 4, 1, 3, 12, 17, 8, 17, 18, 5, 16, 5, 1, 2, 3, 4, 6, 10, 11, 20, 16, 9, 11, 1, 4, 6, 6, 10, 3, 3, 2, 3, 13, 20, 7, 5, 1, 1, 3, 13, 18, 7, 4, 15, 10, 17, 1, 2, 4, 6, 13, 20, 5, 5, 18, 1, 2, 4, 6, 12, 4, 6, 9, 1, 15, 3, 15, 7, 6, 13, 2, 13, 1, 2, 3, 1, 3, 5, 13, 9, 8, 2, 5, 13, 7, 15, 1, 2, 5, 12, 13, 5, 6, 11, 5], \"Freq\": [0.9908126105203201, 0.9920991719881207, 0.9982605297535291, 0.9987543140829145, 0.9944656792413341, 0.9912526770498854, 0.007817450134462818, 0.9977239775245337, 0.994949099220325, 0.5180633653454902, 0.3518191510928329, 0.12835599798112146, 0.9983604839202682, 0.996186249643509, 0.012722313039971992, 0.9830878258160175, 0.0034697217381741796, 0.9970415469502201, 0.9961876530871668, 0.22688830018213937, 0.7717639907710651, 0.9950966406521331, 0.9929728406346173, 0.07135157215037999, 0.14456610963105712, 0.34502117917102804, 0.006334082123010234, 0.43090388089772563, 0.0014903722642377023, 0.988913571899302, 0.9835694670948114, 0.9970381823633534, 0.9990967462117537, 0.9963533850534464, 0.9980011188875666, 0.5163902013260234, 0.48226750079787206, 0.08120007303652259, 0.9164008242693263, 0.9978207642089963, 0.9976632414367305, 0.9950563934860277, 0.9923527739739146, 0.9734669157638984, 0.19810589101432083, 0.001817485238663494, 0.6261236647195736, 0.0054524557159904815, 0.12540648146778108, 0.04180216048926036, 0.9961204302226984, 0.9990100348199129, 0.43779769644629457, 0.24186026586893197, 0.3183983246882142, 0.9952196402954196, 0.9851140534596039, 0.014707336572777185, 0.28219648914611084, 0.034470255188857185, 0.498669691732134, 0.18430096440975643, 0.9935552538189679, 0.9807835237658268, 0.9957511936956139, 0.04049124541065843, 0.9579376216889982, 0.995299163707698, 0.9980349629513654, 0.9820823351397606, 0.1618851269343955, 0.836220414302498, 0.9969610921396582, 0.12894487655098186, 0.867217503078172, 0.9951080904818566, 0.9897704198929803, 0.9897871312402553, 0.009099881687498812, 0.9974640541827383, 0.03724723353439675, 0.9143595070863202, 0.04685942283359591, 0.9999729654601106, 0.19379518259277168, 0.8056700586669323, 0.9931052027648645, 0.9914609342220361, 0.9539162839029893, 0.04586631510932796, 0.9941000146809612, 0.9913660212070219, 0.242107923265112, 0.4048810468162325, 0.24279184395230158, 0.03829955848261658, 0.07112775146771652, 0.9948288858158022, 0.996869232486042, 0.989425529409551, 0.9998259201366768, 0.9977095069146339, 0.9996120776002156, 0.9942284332197947, 0.9889418598166451, 0.9988461492914132, 0.9988533698207767, 0.9961379545299477, 0.045624593574603876, 0.8292004622919286, 0.12467185453525477, 0.9988017810860996, 0.9941076570611818, 0.9872347640184574, 0.010908671425618315, 0.9797470888899821, 0.9413100711270592, 0.05700480244402999, 0.9967938643474561, 0.9993081491631061, 0.9885327340242792, 0.9970585167305311, 0.9941529144417496, 0.9973009223710597, 0.9947668783546799, 0.6623163068086415, 0.21472686398177204, 0.0369968583211837, 0.0848751455603626, 0.984392571944633, 0.9978500858844623, 0.9939636476009953, 0.026038987855304542, 0.031380318697418294, 0.9414095609225488, 0.9972336332314108, 0.9985541493049463, 0.10555057469968838, 0.2370504601228882, 0.09643324931034652, 0.5575595141943672, 0.0031559972501567952, 0.9903676692997879, 0.9910850017660557, 0.6088176810577083, 0.30456423044234515, 0.06837156193603666, 0.017714450137973136, 0.9938923530639158, 0.9981959064325804, 0.990241204795786, 0.9991020413096753, 0.999470801592947, 0.44520086073666365, 0.0651513454736581, 0.4886350910524357, 0.9847257133659564, 0.014543859599425148, 0.9972720480315991, 0.059237417444547726, 0.9394446843449428, 0.995365887300723, 0.9987485685354045, 0.09280863175600777, 0.9059890242848377, 0.9985926638705143, 0.06919433630837457, 0.23947257261507027, 0.5980797416567333, 0.0920585517841853, 0.9889988870342797, 0.9981454860915641, 0.051685124643741635, 0.9466538618958995, 0.9722726931255834, 0.665546614495077, 0.33352789524583226, 0.5758232969681204, 0.4233006733837991, 0.9960868144163468, 0.9987506667868745, 0.9986651416678202, 0.7844593832054677, 0.21180403346547627, 0.5734473010070212, 0.23962495287036908, 0.1850896187688368, 0.9951954383721582, 0.9991249830303204, 0.9980524681066666, 0.9967880039490593, 0.9921983512477415, 0.8253564441689081, 0.057522202022331506, 0.11591595256015289, 0.9958131341825884, 0.8528402206922842, 0.1458115506472663, 0.9963062237204636, 0.988904996884088, 0.9985192950823761, 0.9982254115994812, 0.0011275765792656907, 0.11636590298021927, 0.881539369669917, 0.0006765459475594144, 0.9966228742781829, 0.007372356764361145, 0.10444172082844956, 0.885911537850731, 0.00404669282545643, 0.9934630886495535, 0.9965473793647378, 0.9965492256330114, 0.23105570875583362, 0.2830952827999403, 0.26748341058670827, 0.21752541950436588, 0.9899989532570714, 0.994246830506948, 0.9987818818356236, 0.0006515211231804459, 0.9939616766675838, 0.9977195507450849, 0.9925177548843482, 0.9956296967547558, 0.9948408611658854, 0.9786954178943129, 0.9950934349300988, 0.9914856840116725, 0.9935563782891832, 0.9934860910760545, 0.9946120762879495, 0.9955111870995771, 0.9956075366418397, 0.9957309367094437, 0.9983606919690807, 0.9861487477250479, 0.9683585484357027, 0.031237372530183955, 0.867163164330111, 0.04784051254505085, 0.08469063707299543, 0.9969478304432595, 0.6044667519283261, 0.049010817723918326, 0.3443324117013749, 0.9735531202831857, 0.021430414597428615, 0.8493664298133369, 0.09347094682156339, 0.009482559822477445, 0.04605814770917616, 0.9925862991637372, 0.9973335158890947, 0.9902780641061221, 0.9971600714205501, 0.9957260331105979, 0.9918386077496868, 0.9905935737794759, 0.9830974573693249, 0.9881128246461305, 0.9949104318166784, 0.9906748338003215, 0.9983780203606774, 0.0012756107585528247, 0.9880625543049733, 0.7780726641941371, 0.21840636187905604, 0.3445895727092661, 0.49750774175349965, 0.15606032320267674, 0.23125034952486173, 0.7682899961884242, 0.9967990639224223, 0.41908878412824296, 0.5796305900749196, 0.08236023921558017, 0.9128259846393468, 0.9904039243019991, 0.9972476989173158, 0.9950005837246187, 0.9978886731832318, 0.9930951027068419, 0.9960217655650869, 0.5244487774587174, 0.3302084895110443, 0.14325221236140895, 0.15483728385811116, 0.24118884600975007, 0.6014832949872779, 0.9917628865000384, 0.6279825946562423, 0.36972135442964915, 0.9980507975657216, 0.9947742840616454, 0.9982003070467094, 0.9957762064501412, 0.17182377663013718, 0.2718406018327543, 0.14874297081414858, 0.40647863575935433, 0.9135021432647517, 0.08256141819593965, 0.997286062797814, 0.9925097700622063, 0.9953588630329961, 0.9984300131425888, 0.995130375454436, 0.9987600955269772, 0.002571386218718213, 0.9964121597533075, 0.9915392027274, 0.9975377206201106, 0.9986364519860481, 0.9967981738502486, 0.9978095715584542, 0.9933961303937532, 0.20028039209300438, 0.793838645023181, 0.9966801913866133, 0.8258291441708839, 0.173791510417393, 0.9991679585736629, 0.9985957510876563, 0.9934126353285374, 0.9447770198300949, 0.05359553014867293, 0.49195326092380004, 0.5059203882055483, 0.7535902445579294, 0.04650319547113805, 0.18362800262962203, 0.015501065157046016, 0.9979575899045169, 0.04158575432155004, 0.7862306676418054, 0.17024168175384546, 0.9856570215403149, 0.9909389252322626, 0.9957520191448559, 0.8623481060372155, 0.004413245169074798, 0.13239735507224393, 0.9887775014510682, 0.9981935562643405, 0.14914747175457632, 0.0015014846149789562, 0.5185126870393996, 0.31981622299051765, 0.003503464101617564, 0.0075074230748947805, 0.9920446653635132, 0.9981735458568742, 0.9984186491424397, 0.9878533566004766, 0.9913944825094435, 0.5680364173745914, 0.28098794651895403, 0.1506866732802626, 0.9964656725912038, 0.005454970650212902, 0.9912460952958302, 0.002337844564376958, 0.9993589349989346, 0.9842003419812074, 0.00487000783763633, 0.9934815988778113, 0.9909428340548674, 0.989418328874026, 0.9146394253782482, 0.08415726524521684, 0.8177635082859065, 0.1437127160751282, 0.03688202447945768, 0.7766359171856786, 0.21800306447317294, 0.10475588561218775, 0.8856633965394055, 0.9566923350740494, 0.025615743546802253, 0.016705919704436252, 0.9914653706615727, 0.9966974444437833, 0.9958542627621243, 0.14783854817846223, 0.8435493631359315, 0.9546131565434639, 0.044879490213603115, 0.9989669346272966, 0.9969981492375082, 0.998118637375092, 0.9920976991629847, 0.9955846541924062, 0.06221467463012269, 0.936230506933943, 0.9830242793710606, 0.9967267154032872, 0.995019269538121, 0.9964895964420922, 0.9501282149291391, 0.04864137619091156, 0.9845078882943559, 0.999433585926765, 0.45987747630115366, 0.033776311818728796, 0.504046499448722, 0.9967102335224531, 0.368892307961288, 0.13065515052133034, 0.22767354952546714, 0.25324860026581264, 0.019181288055259135, 0.9940326937055959, 0.9526424969508587, 0.04643604490306992, 0.9968685262706111, 0.7883678398251364, 0.17724642056022474, 0.033934357440590035, 0.9919700196209027, 0.9969955669603182, 0.9922757565037266, 0.44220205237675814, 0.5551047040474199, 0.9970789025948914, 0.45010349590210924, 0.38815376743386193, 0.1021202555218764, 0.005807787043898184, 0.0537220301560582, 0.9930116715807171, 0.33790971768608896, 0.25668142016539447, 0.4050584436365297, 0.9977687334139838, 0.9977335879480164, 0.9958051193256209, 0.9860484824355806, 0.983247382659119, 0.9917837785590724, 0.9934641198927419, 0.9994640454177138, 0.9893692308194146, 0.9948228305760617, 0.9945224020916623, 0.24441927124132862, 0.12024905323102798, 0.6339216393157454, 0.997401759210943, 0.9952337224290986, 0.9879656768231267, 0.9919753412152287, 0.9487692215719707, 0.050779663706868025, 0.000330812141412821, 0.9893517684896939, 0.9941160073888093, 0.9952655087648494, 0.7236032606662437, 0.2736498817565968, 0.0026270388648633293, 0.9971227832222814, 0.9987920996293456, 0.9271489958918656, 0.07258119663935166, 0.6960183856900682, 0.30372621144059775, 0.997972431042547, 0.9887893716993943, 0.9975080238768219, 0.0691365080534035, 0.011151049686032822, 0.916616284191898, 0.15638753128377686, 0.6247093319561623, 0.21818582993623706, 0.9983267539377543, 0.9927886739954902, 0.9993987742039739, 0.9972488806699044, 0.9792750835969183, 0.9993136584294516, 0.9938987896233036, 0.9990272476197831, 0.9988206786330491, 0.9975134018623707, 0.9995982902799007, 0.9975178591365647, 0.9961909448004536, 0.9992665900029861, 0.9911660952842115, 0.9967840393419523, 0.5311549029121042, 0.44623302354199723, 0.0220167835403981, 0.9941597988205682, 0.10763569529546628, 0.25220520760408277, 0.5956897058263796, 0.0400995727571345, 0.0036933817013150194, 0.9935039603932588, 0.16731943982309558, 0.8300993567922509, 0.9873490480496743, 0.9939614965960988, 0.9733433386618813, 0.890905533566016, 0.10889312562227378, 0.9551896738598014, 0.042998892070859225, 0.996758617837118, 0.005065139631872255, 0.2821282774952846, 0.08205526203633053, 0.6306098841680957, 0.9694720607663389, 0.029284529657488772, 0.9728968065052482, 0.9957773421022654, 0.9976938610889629, 0.9988343521239768, 0.9988066273096174, 0.9957418439635387, 0.9897654286821423, 0.9964343538716537, 0.9943971235751304, 0.9948556593916028, 0.9937467703362755, 0.994348159558607, 0.9861607361299506, 0.04109689557968619, 0.4357154735652751, 0.2474651776841319, 0.2549775134352573, 0.011931356781199217, 0.00839613995714019, 0.012277897205965482, 0.001227789720596548, 0.5942502247687294, 0.2394189955163269, 0.15224592535397197, 0.9977928946202985, 0.9955327685384996, 0.9966222348279249, 0.9992139420797922, 0.9861008312850938, 0.06818514435148167, 0.5793248760958005, 0.26975436670440195, 0.08212079429193048, 0.9941907196024591, 0.9933858743586486, 0.9918074960164831, 0.09330258682240924, 0.9057528043836959, 0.9957845559051728, 0.9978619648634762, 0.9953192506625915, 0.9980280221469724, 0.9983398123775101, 0.9984238125291398, 0.9930665308254863, 0.9904016210128449, 0.9907762409321642, 0.36791113492274974, 0.6074004585988793, 0.022560588462244086, 0.9981490854168471, 0.36572952345756266, 0.6330154193177845, 0.618530397553477, 0.3771040165729263, 0.9985926562308379, 0.9944855390219279, 0.9706031330325567, 0.9993889537431399, 0.9990164540327143, 0.8280695140526578, 0.17097498277902645, 0.9405766355350659, 0.054205416927411855, 0.00278316321632188, 0.0023855684711330404, 0.9966062814341384, 0.9980823896996726, 0.9944050240322779, 0.008862239117560485, 0.12333282771938342, 0.7148872888165458, 0.08271423176389786, 0.06942087308755714, 0.8348118404581794, 0.16467782029562716, 0.9974491127470497, 0.9921589196600042, 0.9953340647634111, 0.9992044863794971, 0.1297093117961079, 0.818510484782336, 0.050094630762634776, 0.9994554606453389, 0.996318993987137, 0.23386025806162314, 0.30767240201232293, 0.08550515685378096, 0.35444445362464755, 0.01680870604817916, 0.9966146720928034, 0.9978956835636883, 0.9949838858494829, 0.9980943115492042, 0.9989341850840058, 0.0012140885453985116, 0.9967666957721779, 0.9986852509059104, 0.9963854601345423, 0.9993596695072801, 0.9947417785970657, 0.9781777447767214, 0.003848928731555396, 0.017595102772824667, 0.9843013042140513, 0.013898991458734999, 0.994385622322822, 0.996419977885891, 0.4913106534915115, 0.04801555251299076, 0.43165496703597755, 0.028130323694479435, 0.9021800873187752, 0.09756260968574847, 0.5298684406465297, 0.46898293659708373, 0.9993326375819171, 0.8585062851306025, 0.140462415760897, 0.9989044553181234, 0.99383651002448, 0.9985125030405966, 0.9945804782142358, 0.9861641392915531, 0.013338973898999552, 0.701352492832095, 0.19609955272220764, 0.011724101372715618, 0.01451555408050505, 0.0354514493889258, 0.04075520953372572, 0.7180223332152771, 0.16050536242117963, 0.12117623388089059, 0.9847677027504341, 0.9977451910207347, 0.15373162513485578, 0.2853833041103068, 0.008003980482784234, 0.10405174627619503, 0.027875932026248537, 0.385571059808606, 0.03477591520106253, 0.9961609829759402, 0.9952966659738394, 0.9978801949538958, 0.021115462369906985, 0.9771766752295844, 0.14879816440058638, 0.04682765762018453, 0.010795160946709207, 0.10342931231374092, 0.6885562117360468, 0.001458805533339082, 0.9988916415166506, 0.31178188942049456, 0.6699445557795751, 0.01760751717112986, 0.3698603877140001, 0.1333922709788197, 0.03637971026695083, 0.4577780208591313, 0.9959492491184877, 0.9974045002781751, 0.9963517944057941, 0.9949223531319314, 0.11965130641131022, 0.8786892814580595, 0.9989583462720262, 0.9934678419034016, 0.9912683811726063, 0.47795826291851073, 0.2673025840766486, 0.253730929697481, 0.9944494710698316, 0.9901023903604481, 0.9966419313061804, 0.9965455071633306, 0.9961065108064492, 0.9983342484783506, 0.09203146632026198, 0.9068167148089814, 0.9959343233643346, 0.7661443495138589, 0.23251590142222925, 0.9981129510721111, 0.9675294950552302, 0.02936356585903582, 0.9963646551550267, 0.9966562686211546, 0.9945695153204133, 0.986930053705342, 0.9979033606173762, 0.9977964189350534, 0.012684168796707968, 0.9861941239440445, 0.9850898140119171, 0.014702833044953987, 0.9977702091375868, 0.9895041802616489, 0.2141771762245754, 0.0027695324511798542, 0.032311211930431634, 0.7500817055278772, 0.020633893522035575, 0.6697172297437832, 0.0807669546433964, 0.05128996389763128, 0.17686194447459064, 0.9963593769751421, 0.5560023849642918, 0.4140390761923256, 0.029627125308932065, 0.044439581758447075, 0.9081131924552229, 0.04733781535138928, 0.9983153197934607, 0.14778285577012676, 0.14735074215676383, 0.7043451897815983, 0.23901957452181094, 0.7063762844806591, 0.01001478664197532, 0.04439888744609058, 0.998513510075969, 0.0154534577567575, 0.8742241816679958, 0.10891008323810049, 0.997917283703513, 0.9952392191688607, 0.9974373653365226, 0.002463361252514986, 0.9956438815267946, 0.9929861625200356, 0.23805052859739928, 0.15962302886569799, 0.5674460274705448, 0.034139029294975864, 0.9971954783972483, 0.992587470178622, 0.29260911084705654, 0.006864729873244728, 0.6924796259635619, 0.006864729873244728, 0.9974597912427242, 0.9947652269957422, 0.05064623163105986, 0.5501856817474847, 0.11878180943687419, 0.09655576533979036, 0.14173657629123945, 0.02914891029125747, 0.012752648252425143, 0.9975136594733547, 0.9936985948509574, 0.9923142087826456, 0.9715748610066761, 0.9976390816800669, 0.9976452606486478, 0.9974338920587243, 0.14301914055047163, 0.846673312058792, 0.9970326499310606, 0.9961958992998403, 0.998870515375404, 0.9925418619939094, 0.9963682903636876, 0.006034972234531047, 0.018653550543095965, 0.9743736989570128, 0.9974655324295523, 0.9963422794870805, 0.9953631690509542, 0.9967831336923025, 0.11011550819754971, 0.8472479635588169, 0.04169422155052853, 0.9997561074220667, 0.9903631607323575, 0.06831182414143763, 0.0439147440909242, 0.8872404778370055, 0.9953462140684636, 0.9921526810464505, 0.9978367526628501, 0.9980936074172496, 0.9893545144482815, 0.9901560445301195, 0.34137384064254866, 0.10688997549033258, 0.477152998697836, 0.0062593228890735295, 0.06740809265156109, 0.9986763697651254, 0.9975379267476646, 0.9985912490459093, 0.9959512620428297, 0.9986402843160629, 0.30259864612476023, 0.6964986078906119, 0.9978872615083578, 0.9960837368136207, 0.990664440552394, 0.042081411559012225, 0.8316654941680401, 0.0510032655997922, 0.007434878367316647, 0.06765739314258148, 0.9922179694269038, 0.9923802792638234, 0.9805288947286839, 0.016619133808960743, 0.9977043488727145, 0.9466349672354752, 0.0523158981145819, 0.9896754108881046, 0.6163454308515283, 0.38129844450984374, 0.9932544855839387, 0.9713138496865527, 0.02814569996134895, 0.9239721050607954, 0.012438086029664553, 0.06041356071551355, 0.9953608062295015, 0.9895747717718413, 0.999076809408517, 0.9985818343176776, 0.15313050949197587, 0.36289833071386063, 0.26700446958385615, 0.2166601924906038, 0.9976433271300886, 0.21993766339723714, 0.33888354258145725, 0.4398753267944743, 0.9938959100123143, 0.9929770663454711, 0.9957998133554772, 0.9517289696872475, 0.03580171672804693, 0.011933905576015643, 0.396357298862008, 0.6023331410575106, 0.9876008611475405, 0.4538092488912338, 0.5404919144097841, 0.9966426721244991, 0.9975980656274003, 0.9986252471844573, 0.998814893071975, 0.9952083045733742, 0.9944959438612477, 0.9971556083268611, 0.9967924615820144, 0.9992249829108657, 0.9917389009903765, 0.39336024741147524, 0.5431985324678605, 0.010285744985317728, 0.05309668357285638, 0.9952115340983706, 0.9948686703971823, 0.0846637713170411, 0.9128293889273704, 0.1273760533958122, 0.87040303153805, 0.9978347847940475, 0.9932273496637136, 0.018901457390526986, 0.9730615660469373, 0.007633280869251282, 0.9926459300817848, 0.996956301605439, 0.9929007694725268, 0.6255705802822398, 0.13300682898524258, 0.2397046148745031, 0.9990212744882631, 0.3789556574682925, 0.3290779839437215, 0.004586452737891589, 0.06994340425284673, 0.19721746772933832, 0.019492424136039254, 0.13810648969735556, 0.8611736400839911, 0.998591833510029, 0.996674148377585, 0.9968515566165119, 0.9951107806419572, 0.05801902436288009, 0.11701589745097725, 0.0022816470255065204, 0.12549058640285862, 0.6968801915047058, 0.9845597599963117, 0.9923596957550889, 0.9803521375437909, 0.9940712943894727, 0.9985466438673904, 0.9972247665135092, 0.9595083503891441, 0.02764460148413242, 0.2123807479098427, 0.229932875836276, 0.4032601391098047, 0.11672165071078133, 0.010092473557699138, 0.9947499296094567, 0.9984335139562773, 0.9993371418961466, 0.05122332022160148, 0.9484684064561896, 0.9912836665133816, 0.9992309175863853, 0.9906929333240092, 0.9967985953225074, 0.9838401298885833, 0.014894203841151997, 0.9830174535160318, 0.990734791255998, 0.006378120973751059, 0.9863901150830892, 0.9898347760442553, 0.9880713034908513, 0.12632006843143123, 0.8713506761188521, 0.993481701760018, 0.9923767057480712, 0.99813046629884, 0.9979398929141418, 0.9938987153968721, 0.9095201126801136, 0.05851217375803947, 0.03183750630952148, 0.9550718436258917, 0.0435146637315803, 0.9948496413762397, 0.04901851477812417, 0.9492853837519656, 0.9940528699789242, 0.996964124930186, 0.9944585007621671, 0.009667717577792626, 0.9890075082081856, 0.7479106121653937, 0.23762729576394154, 0.013254112114323433, 0.9971399847641015, 0.9966180524100718, 0.9830023739994539, 0.9891507121882959, 0.9973734488662339, 0.9944843542121716, 0.11296311870436367, 0.3685842680760267, 0.4466482118961154, 0.07132901533364969, 0.2251372241442833, 0.15123721927249567, 0.6221349247345844, 0.9928453473346944, 0.9913700355878844, 0.9958156216504216, 0.9967322317722941, 0.9991365668747042, 0.07376308777736579, 0.6673075194781382, 0.05121375006304153, 0.20753034540471307, 0.9952949531350253, 0.999656265408702, 0.9917173205708577, 0.6688586188736737, 0.3278718719968989, 0.05208348908366505, 0.9449433019464945, 0.9986614569748267, 0.9946793976132836, 0.9954857031431896, 0.23609365120224451, 0.4791648149333033, 0.27986168433753433, 0.0046939629739296326, 0.9917806878711825, 0.9923684303636993, 0.9963570593670126, 0.998974398111725, 0.9975078069422765, 0.997869125695468, 0.9984827777589402, 0.9944996724152053, 0.9972900922240038, 0.4063666281302656, 0.13274643185588675, 0.45513062350589745, 0.9977747930895349, 0.05751788797151085, 0.8381177961563009, 0.005751788797151085, 0.09695872543768971, 0.9958153103975016, 0.998766461936199, 0.9977674707792054, 0.9984980263919088, 0.4910902649354802, 0.10733184471365939, 0.3425203956739411, 0.044627451223047856, 0.01412261114653413, 0.8436190439930792, 0.15308776617288203, 0.0029090311861830315, 0.9987847647106576, 0.3660317407394494, 0.27740298819378245, 0.12818621837113411, 0.045566194811614086, 0.18226477924645634, 0.9994444005958875, 0.9963616278266668, 0.9927360070003824, 0.9969914881111952, 0.99809489482815, 0.9980895940596389, 0.9955933955653025, 0.007058878995237934, 0.729779489969214, 0.2090514163974311, 0.05321308781025519, 0.9895133336689275, 0.9967221091999819, 0.30844176597403067, 0.6889868019160166, 0.9964736528639311, 0.9944933415611378, 0.21973240066224337, 0.779582506604874, 0.9924802669754541, 0.9016015226037853, 0.09694640027997692, 0.9959850062802932, 0.9764583851070163, 0.9818676152307082, 0.9969468969784772, 0.9927546024053069, 0.9865826687493379, 0.998640322846162, 0.9975708671813049, 0.9988322712601376, 0.9886592908658343, 0.9975528841337621, 0.9931719279955304, 0.966188812861745, 0.032008709137751064, 0.8997481346316261, 0.09932284603076393, 0.9966525305910309, 0.9981787048454557, 0.08767272287663923, 0.8767272287663922, 0.03506908915065569, 0.9994225818529928, 0.985710024633499, 0.9861425810772505, 0.9972097022783994, 0.052583560853545055, 0.944626111047613, 0.9959045653590983, 0.990851073098955, 0.013606418339297651, 0.9853314614041382, 0.9881390201560889, 0.993562564766839, 0.9905313537334709, 0.9947450761831221, 0.014953248465127137, 0.9844221906208699, 0.9924605435434356, 0.9205865197604607, 0.024027590843287358, 0.055122120169894526, 0.9968829549469689, 0.9953962309115352, 0.9972611407870616, 0.9963931840401508, 0.9889295925393105, 0.9947106492960631, 0.9444508093081854, 0.05320849629905269, 0.9907780857205906, 0.9927812934178407, 0.9988086623360755, 0.9973978797831083, 0.26283368206863555, 0.7364244425326338, 0.9452270962007349, 0.053975964835583305, 0.9939207400592519, 0.11600283514297716, 0.8635766616199411, 0.9970826021187015, 0.8347568213641705, 0.09980033009929473, 0.04978438740452057, 0.015282649156736548, 0.2836081482807644, 0.05635360610607241, 0.6573820663312446, 0.0023001471880029554, 0.9994466674935552, 0.9979053557376945, 0.9982903088287582, 0.9958971798949585, 0.9949578329563398, 0.9992256454905352, 0.9975160794874178, 0.44120167307344005, 0.5033427537880091, 0.05415151319412443, 0.9894783404946856, 0.5433503158085459, 0.11919933802015631, 0.33309592791188125, 0.0036422019950603317, 0.9957108597134661, 0.9959831519918037, 0.9910706935028669, 0.9934878124836081, 0.9987579050958062, 0.9854114998767574, 0.23127006597725946, 0.6823422607758812, 0.08218688295059634, 0.2042132200096391, 0.7952303038022417, 0.9953148453478907, 0.9973159900742657, 0.8014096025663489, 0.19837116553017473, 0.8313619658500508, 0.16853947280419043, 0.9967674175779871, 0.9945979287266269, 0.04075910935332425, 0.9578390698031198, 0.9943172492960017, 0.9786586430527093, 0.17631903342218613, 0.00506663889144213, 0.6159344012363149, 0.20232777973158908, 0.9945845839613621, 0.9981501669094993, 0.9857230753835577, 0.9973559013448183, 0.4757031717064337, 0.5106813460966126, 0.9842596241961493, 0.9948036627283495, 0.9959985945529204, 0.9980265289031804, 0.9690342357480897, 0.9893181051261699, 0.9911400481248779, 0.9567842466916752, 0.042384777812775734, 0.9982122632204249, 0.8409620311735032, 0.07720924598425957, 0.07882337656232771, 0.0029592393931249313, 0.9962979463308399, 0.9976456282272819, 0.02337453324411212, 0.9758867629416809, 0.10241496590524109, 0.89633578160267, 0.9923316284538121, 0.9944668753065206, 0.9973800683653801, 0.9907918447761499, 0.9939378068422207, 0.9952030978697138, 0.9861662813044264, 0.9964490399142324, 0.007696961447357135, 0.05190973999380393, 0.824469870384348, 0.001610991930842191, 0.0300718493757209, 0.009486952481626237, 0.06891465481936039, 0.005906970413088034, 0.9932252518293033, 0.9268326134396896, 0.07113846813681828, 0.013497859893516009, 0.05534122556341564, 0.930002546663253, 0.998218364959884, 0.9954753271770106, 0.9990168681093559, 0.9972042166221194, 0.8712173415063234, 0.12728112294047042, 0.9969045412359702, 0.9922257254620692, 0.9810615490256871, 0.9959800416028385, 0.9970892642672831, 0.9980901200669394, 0.0016888157699948214, 0.9985051951015941, 0.9896432052407731, 0.981355662550092, 0.817863991394284, 0.18049412223873856, 0.991672666304268, 0.9951562812512209, 0.602217023215055, 0.17145347610543565, 0.18290145665284827, 0.022895961094825258, 0.02049987214304122, 0.996938362384256, 0.9938755765111751, 0.9987432098569577, 0.9970272626364279, 0.8061578844178406, 0.006099290020380219, 0.00042064069106070477, 0.13775982632238082, 0.04963560154516316, 0.9963188377264164, 0.9985355274857607, 0.993670525653971, 0.9990668216740015, 0.9990361714967079, 0.9991928151472815, 0.9965085579476692, 0.9991637872846801, 0.9977784962007001, 0.9970250265572245, 0.5945939762414377, 0.4033036889787768, 0.99876110070893, 0.9530747783401189, 0.046388595405934985, 0.5747359772658943, 0.3852519544835305, 0.01957679317011667, 0.020060170779255353, 0.9874603555966196, 0.9949685679885028, 0.6636751862416732, 0.30816175125604306, 0.02705810498833549, 0.9973689968269095, 0.9717659956694751, 0.8621322565586175, 0.1377376079342051, 0.7555275808316233, 0.236285557956294, 0.007891216153120505, 0.8292017728137983, 0.1382002954689664, 0.03179829807250554, 0.9985707211186373], \"Term\": [\"absolute\", \"abuse\", \"accept\", \"access\", \"accurate\", \"action\", \"action\", \"activity\", \"additional\", \"address\", \"address\", \"address\", \"advance\", \"advice\", \"age\", \"age\", \"age\", \"agency\", \"ago\", \"agree\", \"agree\", \"air\", \"alive\", \"also\", \"also\", \"also\", \"also\", \"also\", \"also\", \"ammunition\", \"ancient\", \"animal\", \"answer\", \"anyway\", \"apple\", \"application\", \"application\", \"apply\", \"apply\", \"appreciate\", \"appropriate\", \"approve\", \"archive\", \"archive_name\", \"area\", \"area\", \"area\", \"area\", \"area\", \"area\", \"argue\", \"argument\", \"arm\", \"arm\", \"arm\", \"armenian\", \"article\", \"article\", \"ask\", \"ask\", \"ask\", \"ask\", \"aspect\", \"assault\", \"associate\", \"assume\", \"assume\", \"atheism\", \"atheist\", \"atmosphere\", \"attack\", \"attack\", \"author\", \"authority\", \"authority\", \"auto\", \"automatically\", \"available\", \"available\", \"aware\", \"away\", \"away\", \"away\", \"ax\", \"back\", \"back\", \"background\", \"backup\", \"bad\", \"bad\", \"band\", \"bank\", \"base\", \"base\", \"base\", \"base\", \"base\", \"baseball\", \"basis\", \"battle\", \"be\", \"belief\", \"believe\", \"benefit\", \"bible\", \"big\", \"bike\", \"bill\", \"bit\", \"bit\", \"bit\", \"black\", \"blind\", \"block\", \"block\", \"bloody\", \"body\", \"body\", \"bomb\", \"book\", \"boot\", \"box\", \"boy\", \"break\", \"btw\", \"build\", \"build\", \"build\", \"build\", \"bullet\", \"bus\", \"button\", \"buy\", \"buy\", \"buy\", \"ca\", \"cable\", \"call\", \"call\", \"call\", \"call\", \"call\", \"camera\", \"camp\", \"can\", \"can\", \"can\", \"can\", \"canadian\", \"cap\", \"capture\", \"car\", \"card\", \"carry\", \"carry\", \"carry\", \"case\", \"case\", \"catch\", \"cause\", \"cause\", \"cd\", \"center\", \"certain\", \"certain\", \"certainly\", \"change\", \"change\", \"change\", \"change\", \"channel\", \"character\", \"cheap\", \"cheap\", \"chemist\", \"child\", \"child\", \"chip\", \"chip\", \"choice\", \"christian\", \"church\", \"citizen\", \"citizen\", \"city\", \"city\", \"city\", \"civilian\", \"claim\", \"clearly\", \"clipper\", \"clock\", \"close\", \"close\", \"close\", \"club\", \"code\", \"code\", \"cold\", \"collection\", \"color\", \"com\", \"come\", \"come\", \"come\", \"come\", \"command\", \"comment\", \"comment\", \"comment\", \"common\", \"common\", \"communication\", \"community\", \"company\", \"company\", \"company\", \"company\", \"component\", \"compression\", \"computer\", \"computer\", \"concept\", \"conclusion\", \"conference\", \"configuration\", \"confirm\", \"consent\", \"consideration\", \"constitution\", \"contribute\", \"controller\", \"convert\", \"convince\", \"cool\", \"cop\", \"copy\", \"core\", \"cost\", \"cost\", \"could\", \"could\", \"could\", \"count\", \"country\", \"country\", \"country\", \"court\", \"court\", \"cover\", \"cover\", \"cover\", \"cover\", \"coverage\", \"cpu\", \"crew\", \"crime\", \"criminal\", \"cry\", \"cryptography\", \"cult\", \"custom\", \"cycle\", \"cylinder\", \"d\", \"d\", \"danger\", \"data\", \"data\", \"datum\", \"datum\", \"datum\", \"day\", \"day\", \"dealer\", \"death\", \"death\", \"defense\", \"defense\", \"deficit\", \"define\", \"degree\", \"deny\", \"department\", \"description\", \"design\", \"design\", \"design\", \"destroy\", \"destroy\", \"destroy\", \"detailed\", \"development\", \"development\", \"device\", \"devil\", \"die\", \"diet\", \"different\", \"different\", \"different\", \"different\", \"digital\", \"digital\", \"direct\", \"dirt\", \"disagree\", \"discussion\", \"disease\", \"disk\", \"display\", \"display\", \"distant\", \"distribution\", \"distribution_usa\", \"division\", \"doctor\", \"dog\", \"double\", \"double\", \"draft\", \"drive\", \"drive\", \"driver\", \"drug\", \"dual\", \"early\", \"early\", \"earth\", \"earth\", \"easy\", \"easy\", \"easy\", \"easy\", \"eat\", \"effect\", \"effect\", \"effect\", \"effectively\", \"electrical\", \"electronic\", \"email\", \"email\", \"email\", \"enable\", \"encryption\", \"end\", \"end\", \"end\", \"end\", \"end\", \"end\", \"energy\", \"engine\", \"entry\", \"era\", \"escape\", \"even\", \"even\", \"even\", \"eventually\", \"ever\", \"ever\", \"ever\", \"evidence\", \"evolution\", \"example\", \"example\", \"excellent\", \"exchange\", \"exist\", \"exist\", \"expect\", \"expect\", \"expect\", \"experiment\", \"experiment\", \"expire\", \"expire\", \"explain\", \"explain\", \"explain\", \"exposure\", \"external\", \"extra\", \"facility\", \"facility\", \"fact\", \"fact\", \"faith\", \"family\", \"fan\", \"fancy\", \"faq\", \"fast\", \"fast\", \"fatal\", \"father\", \"fear\", \"federal\", \"field\", \"field\", \"fighting\", \"file\", \"final\", \"final\", \"final\", \"finally\", \"find\", \"find\", \"find\", \"find\", \"find\", \"finish\", \"fire\", \"fire\", \"firearm\", \"first\", \"first\", \"first\", \"fish\", \"flame\", \"flight\", \"fly\", \"fly\", \"folk\", \"follow\", \"follow\", \"follow\", \"follow\", \"follow\", \"follower\", \"force\", \"force\", \"force\", \"forget\", \"format\", \"frame\", \"french\", \"frequently_asked\", \"fuel\", \"gain\", \"game\", \"garage\", \"gas\", \"gateway\", \"general\", \"general\", \"general\", \"generally\", \"generate\", \"genocide\", \"german\", \"get\", \"get\", \"get\", \"giant\", \"girl\", \"gmt\", \"go\", \"go\", \"go\", \"goal\", \"god\", \"good\", \"good\", \"government\", \"government\", \"graphic\", \"gravity\", \"greek\", \"ground\", \"ground\", \"ground\", \"group\", \"group\", \"group\", \"guess\", \"guilty\", \"gun\", \"guy\", \"hammer\", \"hand\", \"hang\", \"happen\", \"hard\", \"hardware\", \"have\", \"head\", \"health\", \"hear\", \"heat\", \"hell\", \"help\", \"help\", \"help\", \"hide\", \"high\", \"high\", \"high\", \"high\", \"high\", \"historical\", \"hit\", \"hit\", \"hitter\", \"hole\", \"horror\", \"host\", \"host\", \"hot\", \"hot\", \"hour\", \"however\", \"however\", \"however\", \"however\", \"human\", \"human\", \"hunt\", \"ice\", \"ignore\", \"ill\", \"image\", \"imaging\", \"immediate\", \"immediately\", \"impact\", \"implementation\", \"impossible\", \"impression\", \"incline\", \"include\", \"include\", \"include\", \"include\", \"include\", \"include\", \"increase\", \"increase\", \"increase\", \"increase\", \"increase\", \"indeed\", \"independent\", \"industry\", \"info\", \"inform\", \"information\", \"information\", \"information\", \"information\", \"informed\", \"inhabitant\", \"innocent\", \"input\", \"input\", \"insist\", \"instal\", \"insurance\", \"interesting\", \"internal\", \"internet\", \"interpret\", \"investigation\", \"investment\", \"involve\", \"involve\", \"involve\", \"israeli\", \"issue\", \"issue\", \"jewish\", \"jewish\", \"job\", \"join\", \"joint\", \"key\", \"kid\", \"kill\", \"kill\", \"know\", \"know\", \"know\", \"know\", \"laboratory\", \"land\", \"language\", \"large\", \"large\", \"large\", \"large\", \"large\", \"last\", \"last\", \"later\", \"latter\", \"launch\", \"law\", \"lead\", \"lead\", \"lead\", \"leave\", \"legal\", \"less\", \"less\", \"less\", \"less\", \"less\", \"letter\", \"level\", \"library\", \"license\", \"life\", \"light\", \"light\", \"like\", \"link\", \"list\", \"listen\", \"little\", \"little\", \"little\", \"local\", \"local\", \"location\", \"logic\", \"long\", \"long\", \"long\", \"long\", \"look\", \"look\", \"lose\", \"lose\", \"lot\", \"love\", \"love\", \"low\", \"lunar\", \"machine\", \"magazine\", \"mail\", \"mail\", \"make\", \"make\", \"make\", \"make\", \"make\", \"make\", \"man\", \"man\", \"man\", \"mankind\", \"manual\", \"many\", \"many\", \"many\", \"many\", \"many\", \"many\", \"many\", \"market\", \"master\", \"material\", \"matter\", \"matter\", \"may\", \"may\", \"may\", \"may\", \"may\", \"may\", \"maybe\", \"mean\", \"mean\", \"mean\", \"measure\", \"measure\", \"measure\", \"measure\", \"medical\", \"medium\", \"meet\", \"meeting\", \"member\", \"member\", \"memory\", \"mercy\", \"mere\", \"message\", \"message\", \"message\", \"meter\", \"middle\", \"military\", \"mine\", \"mission\", \"mode\", \"model\", \"model\", \"modem\", \"money\", \"money\", \"monitor\", \"month\", \"month\", \"moon\", \"moral\", \"morality\", \"moslem\", \"motif\", \"mount\", \"move\", \"move\", \"much\", \"much\", \"murder\", \"muslim\", \"must\", \"must\", \"must\", \"must\", \"name\", \"name\", \"name\", \"name\", \"name\", \"nature\", \"need\", \"need\", \"need\", \"net\", \"net\", \"net\", \"network\", \"never\", \"never\", \"never\", \"new\", \"new\", \"new\", \"new\", \"news\", \"next\", \"next\", \"next\", \"nice\", \"night\", \"nntp_poste\", \"nntp_poste\", \"nntp_posting\", \"noise\", \"non\", \"non\", \"non\", \"non\", \"normal\", \"northern\", \"note\", \"note\", \"note\", \"note\", \"notice\", \"nuclear\", \"number\", \"number\", \"number\", \"number\", \"number\", \"number\", \"number\", \"object\", \"objective\", \"observation\", \"observer\", \"obtain\", \"obviously\", \"occupy\", \"offense\", \"offense\", \"office\", \"official\", \"often\", \"oil\", \"ok\", \"old\", \"old\", \"old\", \"operate\", \"operation\", \"opportunity\", \"orbit\", \"order\", \"order\", \"order\", \"organization\", \"origin\", \"other\", \"other\", \"other\", \"owner\", \"ozone\", \"package\", \"page\", \"panel\", \"park\", \"part\", \"part\", \"part\", \"part\", \"part\", \"particular\", \"particularly\", \"pass\", \"past\", \"patient\", \"pay\", \"pay\", \"pc\", \"pen\", \"penguin\", \"people\", \"people\", \"people\", \"people\", \"people\", \"percent\", \"percentage\", \"perform\", \"perform\", \"period\", \"person\", \"person\", \"physics\", \"pick\", \"pick\", \"pitch\", \"place\", \"place\", \"plan\", \"plan\", \"plan\", \"plane\", \"planetary\", \"play\", \"player\", \"point\", \"point\", \"point\", \"point\", \"police\", \"policy\", \"policy\", \"policy\", \"pop\", \"portable\", \"possibly\", \"post\", \"post\", \"post\", \"power\", \"power\", \"powerful\", \"predict\", \"predict\", \"prefer\", \"press\", \"pretty\", \"price\", \"primarily\", \"privacy\", \"private\", \"pro\", \"probably\", \"probe\", \"problem\", \"problem\", \"problem\", \"problem\", \"procedure\", \"proceed\", \"process\", \"process\", \"produce\", \"produce\", \"product\", \"production\", \"program\", \"program\", \"program\", \"prohibit\", \"project\", \"proposal\", \"protect\", \"protect\", \"protect\", \"prove\", \"provide\", \"provide\", \"provide\", \"provide\", \"provide\", \"provide\", \"public\", \"public\", \"publish\", \"pull\", \"purchase\", \"push\", \"question\", \"question\", \"question\", \"question\", \"question\", \"quit\", \"radiation\", \"rain\", \"ram\", \"rate\", \"rational\", \"rbi\", \"read\", \"read\", \"read\", \"read\", \"read\", \"read\", \"reading\", \"reality\", \"really\", \"reason\", \"reason\", \"recall\", \"receive\", \"receiver\", \"recommend\", \"recommendation\", \"record\", \"record\", \"reduce\", \"reduce\", \"reflection\", \"regularly\", \"regulation\", \"relate\", \"relate\", \"related\", \"reliable\", \"religion\", \"religious\", \"rely\", \"reply\", \"reply\", \"reply\", \"report\", \"report\", \"requirement\", \"research\", \"research\", \"resource\", \"respect\", \"restrict\", \"result\", \"result\", \"return\", \"return\", \"return\", \"revelation\", \"review\", \"revolver\", \"rich\", \"ride\", \"rider\", \"right\", \"right\", \"right\", \"right\", \"risk\", \"risk\", \"risk\", \"rocket\", \"role\", \"routine\", \"rsa\", \"rule\", \"run\", \"run\", \"run\", \"run\", \"russian\", \"s\", \"sad\", \"safe\", \"safe\", \"safety\", \"safety\", \"sale\", \"sample\", \"satellite\", \"say\", \"say\", \"say\", \"say\", \"schedule\", \"scheme\", \"school\", \"science\", \"scientific\", \"score\", \"screen\", \"scripture\", \"scsi\", \"search\", \"search\", \"search\", \"season\", \"second\", \"second\", \"second\", \"second\", \"secret\", \"section\", \"secure\", \"security\", \"see\", \"see\", \"see\", \"see\", \"see\", \"seem\", \"seem\", \"seem\", \"sell\", \"send\", \"send\", \"send\", \"send\", \"send\", \"sense\", \"separate\", \"series\", \"serious\", \"server\", \"service\", \"session\", \"set\", \"set\", \"set\", \"set\", \"sgi\", \"shall\", \"shoot\", \"shoot\", \"shop\", \"should\", \"show\", \"show\", \"shuttle\", \"side\", \"side\", \"significant\", \"silence\", \"silent\", \"site\", \"sky\", \"slaughter\", \"slow\", \"society\", \"software\", \"solar\", \"soldier\", \"solid\", \"sometimes\", \"sometimes\", \"soon\", \"soon\", \"sorry\", \"sound\", \"source\", \"source\", \"source\", \"space\", \"spacecraft\", \"speaker\", \"special\", \"specific\", \"specific\", \"specifically\", \"specification\", \"speed\", \"speed\", \"split\", \"sport\", \"staff\", \"star\", \"start\", \"start\", \"stat\", \"state\", \"state\", \"state\", \"statement\", \"status\", \"steal\", \"step\", \"strength\", \"student\", \"study\", \"study\", \"success\", \"sufficient\", \"suggest\", \"sun\", \"support\", \"support\", \"sure\", \"sure\", \"surface\", \"survey\", \"survey\", \"suspect\", \"system\", \"system\", \"system\", \"system\", \"take\", \"take\", \"take\", \"take\", \"talk\", \"tap\", \"tape\", \"tax\", \"teach\", \"team\", \"technical\", \"technology\", \"technology\", \"technology\", \"telescope\", \"tell\", \"tell\", \"tell\", \"tell\", \"tend\", \"term\", \"terminal\", \"terrorism\", \"test\", \"testing\", \"text\", \"text\", \"text\", \"thank\", \"thank\", \"there\", \"therefore\", \"thing\", \"thing\", \"think\", \"think\", \"thread\", \"threat\", \"thus\", \"thus\", \"tie\", \"tiff\", \"time\", \"time\", \"time\", \"time\", \"topic\", \"total\", \"tour\", \"trade\", \"training\", \"training\", \"transport\", \"trap\", \"treatment\", \"trial\", \"tricky\", \"trigger\", \"troop\", \"true\", \"true\", \"truth\", \"try\", \"try\", \"try\", \"try\", \"turk\", \"turkish\", \"turn\", \"turn\", \"type\", \"type\", \"typically\", \"understanding\", \"univ\", \"universe\", \"unknown\", \"unlikely\", \"unusual\", \"upgrade\", \"use\", \"use\", \"use\", \"use\", \"use\", \"use\", \"use\", \"use\", \"usenet\", \"user\", \"user\", \"usually\", \"usually\", \"usually\", \"value\", \"vehicle\", \"version\", \"video\", \"view\", \"view\", \"village\", \"violate\", \"vitamin\", \"vote\", \"wait\", \"want\", \"want\", \"war\", \"warrant\", \"wash\", \"watch\", \"watch\", \"water\", \"wave\", \"way\", \"way\", \"way\", \"way\", \"way\", \"weapon\", \"wear\", \"week\", \"weight\", \"well\", \"well\", \"well\", \"well\", \"well\", \"white\", \"whole\", \"widget\", \"will\", \"win\", \"window\", \"wing\", \"wire\", \"wish\", \"withdraw\", \"woman\", \"woman\", \"wonder\", \"word\", \"word\", \"work\", \"work\", \"work\", \"work\", \"working\", \"workstation\", \"world\", \"world\", \"world\", \"worry\", \"worthwhile\", \"would\", \"would\", \"year\", \"year\", \"year\", \"yet\", \"yet\", \"yet\", \"young\"]}, \"R\": 30, \"lambda.step\": 0.01, \"plot.opts\": {\"xlab\": \"PC1\", \"ylab\": \"PC2\"}, \"topic.order\": [15, 6, 12, 14, 7, 9, 20, 16, 19, 8, 13, 17, 18, 3, 2, 5, 10, 4, 11, 1]};\n",
       "\n",
       "function LDAvis_load_lib(url, callback){\n",
       "  var s = document.createElement('script');\n",
       "  s.src = url;\n",
       "  s.async = true;\n",
       "  s.onreadystatechange = s.onload = callback;\n",
       "  s.onerror = function(){console.warn(\"failed to load library \" + url);};\n",
       "  document.getElementsByTagName(\"head\")[0].appendChild(s);\n",
       "}\n",
       "\n",
       "if(typeof(LDAvis) !== \"undefined\"){\n",
       "   // already loaded: just create the visualization\n",
       "   !function(LDAvis){\n",
       "       new LDAvis(\"#\" + \"ldavis_el483091405521639190083403866753\", ldavis_el483091405521639190083403866753_data);\n",
       "   }(LDAvis);\n",
       "}else if(typeof define === \"function\" && define.amd){\n",
       "   // require.js is available: use it to load d3/LDAvis\n",
       "   require.config({paths: {d3: \"https://d3js.org/d3.v5\"}});\n",
       "   require([\"d3\"], function(d3){\n",
       "      window.d3 = d3;\n",
       "      LDAvis_load_lib(\"https://cdn.jsdelivr.net/gh/bmabey/pyLDAvis@3.2.2/pyLDAvis/js/ldavis.v3.0.0.js\", function(){\n",
       "        new LDAvis(\"#\" + \"ldavis_el483091405521639190083403866753\", ldavis_el483091405521639190083403866753_data);\n",
       "      });\n",
       "    });\n",
       "}else{\n",
       "    // require.js not available: dynamically load d3 & LDAvis\n",
       "    LDAvis_load_lib(\"https://d3js.org/d3.v5.js\", function(){\n",
       "         LDAvis_load_lib(\"https://cdn.jsdelivr.net/gh/bmabey/pyLDAvis@3.2.2/pyLDAvis/js/ldavis.v3.0.0.js\", function(){\n",
       "                 new LDAvis(\"#\" + \"ldavis_el483091405521639190083403866753\", ldavis_el483091405521639190083403866753_data);\n",
       "            })\n",
       "         });\n",
       "}\n",
       "</script>"
      ],
      "text/plain": [
       "PreparedData(topic_coordinates=              x         y  topics  cluster       Freq\n",
       "topic                                                \n",
       "14    -0.282514 -0.056498       1        1  22.247072\n",
       "5     -0.279435 -0.019724       2        1  12.727841\n",
       "11    -0.116220  0.233202       3        1  12.067802\n",
       "13    -0.226382 -0.111975       4        1  11.186010\n",
       "6     -0.143628 -0.027520       5        1   7.532973\n",
       "8     -0.096967  0.015494       6        1   6.243390\n",
       "19     0.141170 -0.117025       7        1   5.269798\n",
       "15     0.062914  0.150095       8        1   2.888202\n",
       "18     0.080344  0.213750       9        1   2.654690\n",
       "7      0.053462  0.095667      10        1   2.578028\n",
       "12     0.006495  0.221696      11        1   2.567292\n",
       "16     0.000686 -0.137858      12        1   2.201473\n",
       "17    -0.041838 -0.102814      13        1   2.165380\n",
       "2      0.112816  0.005505      14        1   1.270375\n",
       "1      0.094097 -0.071927      15        1   1.190032\n",
       "4      0.107399 -0.114967      16        1   1.154864\n",
       "9      0.137089 -0.022394      17        1   1.142145\n",
       "3      0.147913 -0.088031      18        1   1.119033\n",
       "10     0.117253  0.041414      19        1   0.944239\n",
       "0      0.125346 -0.106090      20        1   0.849363, topic_info=          Term          Freq         Total Category  logprob  loglift\n",
       "2821        ax  42743.000000  42743.000000  Default  30.0000  30.0000\n",
       "120        may   6854.000000   6854.000000  Default  29.0000  29.0000\n",
       "297      would  11790.000000  11790.000000  Default  28.0000  28.0000\n",
       "139   question   3067.000000   3067.000000  Default  27.0000  27.0000\n",
       "130     people   6725.000000   6725.000000  Default  26.0000  26.0000\n",
       "...        ...           ...           ...      ...      ...      ...\n",
       "1641   protect    164.079063    684.175397  Topic20  -3.9998   3.3406\n",
       "854       safe    125.206276    381.246489  Topic20  -4.2702   3.6550\n",
       "1347       arm    103.501581    326.634884  Topic20  -4.4606   3.6192\n",
       "765       city    111.934618    605.112273  Topic20  -4.3822   3.0809\n",
       "1410  training     73.379282    142.946283  Topic20  -4.8045   4.1016\n",
       "\n",
       "[906 rows x 6 columns], token_table=      Topic      Freq      Term\n",
       "term                           \n",
       "413      17  0.990813  absolute\n",
       "698      18  0.992099     abuse\n",
       "1055      2  0.998261    accept\n",
       "76       16  0.998754    access\n",
       "1688     16  0.994466  accurate\n",
       "...     ...       ...       ...\n",
       "36       13  0.007891      year\n",
       "217       5  0.829202       yet\n",
       "217       6  0.138200       yet\n",
       "217      11  0.031798       yet\n",
       "506       5  0.998571     young\n",
       "\n",
       "[1289 rows x 3 columns], R=30, lambda_step=0.01, plot_opts={'xlab': 'PC1', 'ylab': 'PC2'}, topic_order=[15, 6, 12, 14, 7, 9, 20, 16, 19, 8, 13, 17, 18, 3, 2, 5, 10, 4, 11, 1])"
      ]
     },
     "execution_count": 34,
     "metadata": {},
     "output_type": "execute_result"
    }
   ],
   "source": []
  },
  {
   "cell_type": "code",
   "execution_count": null,
   "metadata": {},
   "outputs": [],
   "source": []
  }
 ],
 "metadata": {
  "kernelspec": {
   "display_name": "testing",
   "language": "python",
   "name": "testing"
  },
  "language_info": {
   "codemirror_mode": {
    "name": "ipython",
    "version": 3
   },
   "file_extension": ".py",
   "mimetype": "text/x-python",
   "name": "python",
   "nbconvert_exporter": "python",
   "pygments_lexer": "ipython3",
   "version": "3.8.5"
  }
 },
 "nbformat": 4,
 "nbformat_minor": 4
}
